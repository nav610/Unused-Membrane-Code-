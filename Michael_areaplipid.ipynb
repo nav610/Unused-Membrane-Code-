{
 "cells": [
  {
   "cell_type": "markdown",
   "metadata": {},
   "source": [
    "identify domains in 3-component system using Voronoi edge method to determine neighbors and Lo/Ld\n",
    "\n",
    "then, find area per lipid to compare Lo/Ld and R/AR\n",
    "\n",
    "based off of interface code\n",
    "\n",
    "mdw 05/05/2017\n"
   ]
  },
  {
   "cell_type": "code",
   "execution_count": 1,
   "metadata": {
    "collapsed": true
   },
   "outputs": [],
   "source": [
    "from __future__ import print_function\n",
    "%matplotlib inline\n",
    "import mdtraj as md\n",
    "import numpy as np\n",
    "import matplotlib.pyplot as plt\n",
    "from matplotlib.collections import PatchCollection\n",
    "from matplotlib.patches import Polygon\n",
    "#import scipy.cluster.hierarchy\n",
    "import scipy.spatial"
   ]
  },
  {
   "cell_type": "code",
   "execution_count": 2,
   "metadata": {
    "collapsed": false
   },
   "outputs": [
    {
     "name": "stderr",
     "output_type": "stream",
     "text": [
      "/Users/naveen/anaconda/lib/python2.7/site-packages/mdtraj/core/trajectory.py:417: UserWarning: top= kwarg ignored since file contains topology information\n",
      "  warnings.warn('top= kwarg ignored since file contains topology information')\n"
     ]
    }
   ],
   "source": [
    "traj=md.load('POPE_POPS_CHOL_1us.gro',top='POPE_POPS_CHOL_1us.gro',stride=12000)"
   ]
  },
  {
   "cell_type": "code",
   "execution_count": 3,
   "metadata": {
    "collapsed": false
   },
   "outputs": [
    {
     "data": {
      "text/plain": [
       "1"
      ]
     },
     "execution_count": 3,
     "metadata": {},
     "output_type": "execute_result"
    }
   ],
   "source": [
    "traj.n_frames"
   ]
  },
  {
   "cell_type": "code",
   "execution_count": 4,
   "metadata": {
    "collapsed": false
   },
   "outputs": [],
   "source": [
    "topology=traj.topology\n",
    "allhead=topology.select('name PO4 or name ROH')"
   ]
  },
  {
   "cell_type": "code",
   "execution_count": 5,
   "metadata": {
    "collapsed": false
   },
   "outputs": [],
   "source": [
    "resnames=[atom.residue.name for atom in topology.atoms]"
   ]
  },
  {
   "cell_type": "code",
   "execution_count": null,
   "metadata": {
    "collapsed": false
   },
   "outputs": [],
   "source": []
  },
  {
   "cell_type": "code",
   "execution_count": 6,
   "metadata": {
    "collapsed": true
   },
   "outputs": [],
   "source": [
    "#x,y coordinates of all for finding neighbors to determine local midplane z-value\n",
    "# here, best to use xy radius of neighbors, since Voronoi across 2 leaflets could have complications\n",
    "\n",
    "allheadxy=list([] for _ in xrange(traj.n_frames))\n",
    "allheadz=list([] for _ in xrange(traj.n_frames))\n",
    "for nn in range(traj.n_frames):\n",
    "    for i in range(len(allhead)):\n",
    "        allheadi=allhead[i]\n",
    "        allheadxy[nn].append(traj.xyz[nn][allheadi][0:2:1])\n",
    "        allheadz[nn].append(traj.xyz[nn][allheadi][2])\n"
   ]
  },
  {
   "cell_type": "code",
   "execution_count": 7,
   "metadata": {
    "collapsed": false
   },
   "outputs": [],
   "source": [
    "# mdtraj can't handle neighbors for gro (rather than xtc) inputs, so do it myself\n",
    "#cutoffsq = 2.4**2; #square of maximum xy distance for neighbors\n",
    "cutoffsq=1.0**2\n",
    "neigh=list([] for _ in xrange(traj.n_frames))\n",
    "for nn in range(traj.n_frames):\n",
    "    neigh[nn]=list([] for _ in xrange(len(allhead)))\n",
    "    for i in range(len(allheadxy[nn])):\n",
    "        xyi=allheadxy[nn][i]\n",
    "        for j in range(len(allhead)-i-1): #not self, but will add for midplane finding\n",
    "            xyj=allheadxy[nn][j+i+1]\n",
    "            distsq=(xyi[0]-xyj[0])**2 + (xyi[1]-xyj[1])**2\n",
    "            if (distsq < cutoffsq):\n",
    "                neigh[nn][i].append(j+i+1)\n",
    "                neigh[nn][j+i+1].append(i)\n",
    "  "
   ]
  },
  {
   "cell_type": "code",
   "execution_count": 8,
   "metadata": {
    "collapsed": false
   },
   "outputs": [],
   "source": [
    "#new leaflet id method based on tilt angles; PO4-C4A or ROH-C1 (both +6 beads)\n",
    "num_head=len(allhead)\n",
    "tiltvectors=list([] for _ in xrange(traj.n_frames))\n",
    "\n",
    "for nn in range(traj.n_frames):\n",
    "    tiltvectors[nn]=list([] for _ in xrange(num_head)) #store vector roh-c1 or po4-c4a\n",
    "    \n",
    "    for i in range(num_head):\n",
    "        tiltvectors[nn][i]=traj.xyz[nn][allhead[i]]-traj.xyz[nn][allhead[i]+6]\n"
   ]
  },
  {
   "cell_type": "code",
   "execution_count": 9,
   "metadata": {
    "collapsed": false
   },
   "outputs": [],
   "source": [
    "# must fix periodic boundary condition errors in tiltvectors, then calculate tiltangle\n",
    "norms=list([] for _ in xrange(traj.n_frames))\n",
    "for nn in range(traj.n_frames):\n",
    "    norms[nn]=list([] for _ in xrange(len(allhead)))\n",
    "    halfx=0.5*traj.unitcell_lengths[nn][0]\n",
    "    halfy=0.5*traj.unitcell_lengths[nn][1]\n",
    "    halfz=0.5*traj.unitcell_lengths[nn][2]\n",
    "    for i in range(len(allhead)):\n",
    "        norms[nn][i]=np.linalg.norm(tiltvectors[nn][i])\n",
    "        if (norms[nn][i] > halfz):\n",
    "            if (np.abs(tiltvectors[nn][i][0]) > halfx):\n",
    "                if (tiltvectors[nn][i][0]>0): \n",
    "                    tiltvectors[nn][i][0]=tiltvectors[nn][i][0]-2*halfx\n",
    "                else:\n",
    "                    tiltvectors[nn][i][0]=tiltvectors[nn][i][0]+2*halfx\n",
    "            if (np.abs(tiltvectors[nn][i][1]) > halfy):\n",
    "                if (tiltvectors[nn][i][1]>0): \n",
    "                    tiltvectors[nn][i][1]=tiltvectors[nn][i][1]-2*halfy\n",
    "                else:\n",
    "                    tiltvectors[nn][i][1]=tiltvectors[nn][i][1]+2*halfy\n",
    "            if (np.abs(tiltvectors[nn][i][2]) > halfz):\n",
    "                if (tiltvectors[nn][i][2]>0): \n",
    "                    tiltvectors[nn][i][2]=tiltvectors[nn][i][2]-2*halfz\n",
    "                else:\n",
    "                    tiltvectors[nn][i][2]=tiltvectors[nn][i][2]+2*halfz\n",
    "\n",
    "    for i in range(len(allhead)):\n",
    "        norms[nn][i]=np.linalg.norm(tiltvectors[nn][i])\n"
   ]
  },
  {
   "cell_type": "code",
   "execution_count": 10,
   "metadata": {
    "collapsed": false
   },
   "outputs": [],
   "source": [
    "# use neigh to find local average tilt vector, outliers are not in a leaflet\n",
    "# if pointing neg in z, flip in x,y,z for making average in outer leaflet\n",
    "localvector=list([] for _ in xrange(traj.n_frames))\n",
    "for nn in range(traj.n_frames):\n",
    "    localvector[nn]=list([] for _ in xrange(len(allhead)))\n",
    "    for i in range(len(allhead)):\n",
    "        localvectorsx=[]\n",
    "        localvectorsy=[]\n",
    "        localvectorsz=[]\n",
    "        sgn=np.sign(tiltvectors[nn][i][2])\n",
    "        localvectorsx.append(sgn*tiltvectors[nn][i][0]) #include self\n",
    "        localvectorsy.append(sgn*tiltvectors[nn][i][1]) #include self\n",
    "        localvectorsz.append(sgn*tiltvectors[nn][i][2]) #include self\n",
    "        for j in range(len(neigh[nn][i])):\n",
    "            sgn=np.sign(tiltvectors[nn][neigh[nn][i][j]][2])\n",
    "            localvectorsx.append(sgn*tiltvectors[nn][neigh[nn][i][j]][0])\n",
    "            localvectorsy.append(sgn*tiltvectors[nn][neigh[nn][i][j]][1])\n",
    "            localvectorsz.append(sgn*tiltvectors[nn][neigh[nn][i][j]][2])\n",
    "        localvector[nn][i]=[np.mean(localvectorsx),np.mean(localvectorsy),np.mean(localvectorsz)]\n",
    "       "
   ]
  },
  {
   "cell_type": "code",
   "execution_count": 11,
   "metadata": {
    "collapsed": false
   },
   "outputs": [],
   "source": [
    "# find angle between orientation vector and local average orientation vector for each lipid\n",
    "# in range [0,180]\n",
    "diffangle=list([] for _ in xrange(traj.n_frames))\n",
    "for nn in range(traj.n_frames):\n",
    "    diffangle[nn]=list([] for _ in xrange(len(allhead)))\n",
    "    for i in range(len(allhead)):\n",
    "        normlv=np.linalg.norm(localvector[nn][i])\n",
    "        normtv=np.linalg.norm(tiltvectors[nn][i])\n",
    "        cos=np.dot(localvector[nn][i],tiltvectors[nn][i])/(normlv*normtv)\n",
    "        if (cos==0):\n",
    "            diffangle[nn][i]=90 # exactly along midplane\n",
    "        elif (cos==1 and np.sign(localvector[nn][i][2])==np.sign(tiltvectors[nn][i][2])):\n",
    "            diffangle[nn][i]=0 # \"perfect\" upper\n",
    "        elif (cos==1 and not(np.sign(localvector[nn][i][2])==np.sign(tiltvectors[nn][i][2]))):\n",
    "            diffangle[nn][i]=180 # \"perfect\" lower\n",
    "        else:\n",
    "            diffangle[nn][i]=np.arccos(cos)*180./np.pi\n"
   ]
  },
  {
   "cell_type": "code",
   "execution_count": 12,
   "metadata": {
    "collapsed": false
   },
   "outputs": [],
   "source": [
    "#have array with values placing each head in one leaflet: 0=lower, 1=upper, 2=between\n",
    "head_leaflet=list([] for _ in xrange(traj.n_frames))\n",
    "for nn in range(traj.n_frames):\n",
    "    head_leaflet[nn]=list([] for _ in xrange(len(allhead)))\n",
    "    for i in range(len(allhead)):\n",
    "        if (diffangle[nn][i]>120):\n",
    "            head_leaflet[nn][i]=0\n",
    "        elif (diffangle[nn][i]<60):\n",
    "            head_leaflet[nn][i]=1\n",
    "        else:\n",
    "            head_leaflet[nn][i]=2"
   ]
  },
  {
   "cell_type": "code",
   "execution_count": 13,
   "metadata": {
    "collapsed": false
   },
   "outputs": [],
   "source": [
    "# want to identify all midplane chol and remove all \"midplane\" phospholipids\n",
    "# tilt angle insufficient\n",
    "# chol: find distance from ROH to nearest PO4; if beyond threshold, then in midplane; \n",
    "# else, copy leaflet ID (do for all phospholipids); only if copying non-midplane\n",
    "\n",
    "for nn in range(traj.n_frames):\n",
    "    fixedchol=0\n",
    "    fixedphos=0\n",
    "    midplanechol=0\n",
    "    for i in range(len(allhead)):\n",
    "        mindist=100.0\n",
    "        if (head_leaflet[nn][i]==2 and (not resnames[allhead[i]]=='CHOL')): #phospholipids, must assign\n",
    "            for j in range(len(neigh[nn][i])):\n",
    "                if (not resnames[allhead[neigh[nn][i][j]]]=='CHOL'):\n",
    "                    dist=np.linalg.norm(traj.xyz[nn][allhead[i]]-traj.xyz[nn][allhead[neigh[nn][i][j]]])\n",
    "                    if (dist < mindist and (not head_leaflet[nn][neigh[nn][i][j]]==2)):\n",
    "                        mindist=dist\n",
    "                        correct_leaflet=head_leaflet[nn][neigh[nn][i][j]]\n",
    "            head_leaflet[nn][i]=correct_leaflet\n",
    "            fixedphos=fixedphos+1\n",
    "    #must fix all phospholipids before all chols, since some may use fixed phospholipid leaflet id\n",
    "    # so, must go through allhead twice\n",
    "    for i in range(len(allhead)):\n",
    "        mindist=100.0\n",
    "        if (resnames[allhead[i]]=='CHOL'): #all chol, ignoring angle\n",
    "            for j in range(len(neigh[nn][i])):\n",
    "                if (not resnames[allhead[neigh[nn][i][j]]]=='CHOL'):\n",
    "                    dist=np.linalg.norm(traj.xyz[nn][allhead[i]]-traj.xyz[nn][allhead[neigh[nn][i][j]]])\n",
    "                    if (dist < mindist and (not head_leaflet[nn][neigh[nn][i][j]]==2)):\n",
    "                        mindist=dist\n",
    "                        correct_leaflet=head_leaflet[nn][neigh[nn][i][j]]\n",
    "            if (mindist<1.4): #close to a headgroup, so in a leaflet\n",
    "                head_leaflet[nn][i]=correct_leaflet\n",
    "                fixedchol=fixedchol+1\n",
    "            else:\n",
    "                head_leaflet[nn][i]=2\n",
    "                midplanechol=midplanechol+1"
   ]
  },
  {
   "cell_type": "code",
   "execution_count": 14,
   "metadata": {
    "collapsed": true
   },
   "outputs": [],
   "source": [
    "# only need upper leaflet heads for this situation\n",
    "upperheads=list([] for _ in xrange(traj.n_frames))\n",
    "for nn in range(traj.n_frames):\n",
    "#    upperheads[nn]=[]\n",
    "    for i in range(len(allhead)):\n",
    "        if head_leaflet[nn][i]==1:\n",
    "            upperheads[nn].append(allhead[i])"
   ]
  },
  {
   "cell_type": "code",
   "execution_count": 15,
   "metadata": {
    "collapsed": false
   },
   "outputs": [],
   "source": [
    "#count DPPC as fraction of upper total, to find global concentration of DPPC\n",
    "upperdppc=list([] for _ in xrange(traj.n_frames))\n",
    "#uppertotal=list([] for _ in xrange(traj.n_frames))\n",
    "globalconc=list([] for _ in xrange(traj.n_frames))\n",
    "\n",
    "for nn in range(traj.n_frames):\n",
    "    upperdppc[nn]=0\n",
    "    for j in range(len(upperheads[nn])):\n",
    "        if(resnames[upperheads[nn][j]]=='DXPC' or resnames[upperheads[nn][j]]=='DBPC' or resnames[upperheads[nn][j]]=='DPPC' or resnames[upperheads[nn][j]]=='CHOL'):\n",
    "            upperdppc[nn]=upperdppc[nn]+1\n",
    "    globalconc[nn]=float(upperdppc[nn])/len(upperheads[nn])"
   ]
  },
  {
   "cell_type": "code",
   "execution_count": 16,
   "metadata": {
    "collapsed": true
   },
   "outputs": [],
   "source": [
    "#x,y coordinates of outer for Voronoi\n",
    "headxy=list([] for _ in xrange(traj.n_frames)) #[frame][head]\n",
    "reg=list([] for _ in xrange(traj.n_frames))\n",
    "frac_reg=list([] for _ in xrange(traj.n_frames))\n",
    "for nn in range(traj.n_frames):\n",
    "#    headxy[nn]=list([] for _ in xrange(len(upperheads[nn])))\n",
    "    for i in range(len(upperheads[nn])):\n",
    "        upperheadsi=upperheads[nn][i]\n",
    "        headxy[nn].append(traj.xyz[nn][upperheadsi][0:2:1])\n",
    "        \n",
    "\n",
    "    vor=scipy.spatial.Voronoi(np.array(headxy[nn]))\n",
    "\n",
    "#Voronoi neighbors vneigh\n",
    "\n",
    "#generate list of neighbors, edgeneigh\n",
    "    edgeneigh=list([] for _ in xrange(len(upperheads[nn])))\n",
    "    for k in range(len(vor.ridge_points)):\n",
    "        pair=vor.ridge_points[k]\n",
    "        edgeneigh[pair[0]].append(pair[1])\n",
    "        edgeneigh[pair[1]].append(pair[0])\n",
    "\n",
    "\n",
    "\n",
    "    vneigh=list([] for _ in xrange(len(upperheads[nn])))  #lipid type\n",
    "    vneighres=list([] for _ in xrange(len(upperheads[nn])))\n",
    "    for i in range(len(upperheads[nn])):\n",
    "        vneighheads=edgeneigh[i] #upperhead index, not atom\n",
    "        if not vneighheads:\n",
    "            vneigh[i]=[]\n",
    "            vneighres[i]=[]\n",
    "        else:\n",
    "            for j in range(len(vneighheads)):\n",
    "                vneigh[i].append(resnames[upperheads[nn][vneighheads[j]]])\n",
    "                vneighres[i].append(vneighheads[j])\n",
    "\n",
    "\n",
    "#phase based on edges\n",
    "    vphase=list([] for _ in xrange(len(upperheads[nn])))\n",
    "    for i in range(len(upperheads[nn])):\n",
    "        vneightot=1+len(vneigh[i]) #include self\n",
    "        num_sat=0\n",
    "        if (resnames[upperheads[nn][j]]=='DXPC' or resnames[upperheads[nn][j]]=='DBPC' or resnames[upperheads[nn][j]]=='DPPC' or resnames[upperheads[nn][j]]=='CHOL'):\n",
    "            num_sat=num_sat+1\n",
    "        for j in range(len(vneigh[i])):\n",
    "            if (vneigh[i][j]=='DXPC' or vneigh[i][j]=='DBPC' or vneigh[i][j]=='DPPC' or vneigh[i][j]=='CHOL'):\n",
    "                num_sat=num_sat+1\n",
    "        vlocal_conc=float(num_sat)/vneightot #integer would always be zero\n",
    "        if (vlocal_conc > globalconc[nn]):\n",
    "            vphase[i] = 1 # Lo=1\n",
    "        else:\n",
    "            vphase[i] = 0 # Ld=0\n",
    "        \n",
    "#iterate edge-based phase determination to reduce small clusters\n",
    "    vphase2=list([] for _ in xrange(len(upperheads[nn])))\n",
    "    for i in range(len(upperheads[nn])):\n",
    "        vneightot=1+len(vneigh[i])\n",
    "        num_lo=0\n",
    "        if (vphase[i]==1):\n",
    "            num_lo=num_lo+1\n",
    "        for j in range(len(vneigh[i])):\n",
    "            if(vphase[vneighres[i][j]]==1):\n",
    "                num_lo=num_lo+1\n",
    "        vlocal_conc=float(num_lo)/vneightot\n",
    "        if (vlocal_conc > 0.49):\n",
    "            vphase2[i]=1\n",
    "        else:\n",
    "            vphase2[i]=0\n",
    "\n",
    "\n",
    "#iterate edge-based phase determination to reduce small clusters\n",
    "    vphase3=list([] for _ in xrange(len(upperheads[nn])))\n",
    "    for i in range(len(upperheads[nn])):\n",
    "        vneightot=1+len(vneigh[i])\n",
    "        num_lo=0\n",
    "        if (vphase2[i]==1):\n",
    "            num_lo=num_lo+1\n",
    "        for j in range(len(vneigh[i])):\n",
    "            if(vphase2[vneighres[i][j]]==1):\n",
    "                num_lo=num_lo+1\n",
    "        vlocal_conc=float(num_lo)/vneightot\n",
    "        if (vlocal_conc > 0.49):\n",
    "            vphase3[i]=1\n",
    "        else:\n",
    "            vphase3[i]=0\n",
    "            \n",
    "            \n",
    "# calculate opposite phase\n",
    "    oppneigh=list([] for _ in xrange(len(upperheads[nn]))) #for upper, lower neighbors (xy dist)\n",
    "    for i in range(len(upperheads[nn])):\n",
    "        for j in range(len(neigh[nn][i])):\n",
    "            if (head_leaflet[nn][neigh[nn][i][j]]==0): # if lower\n",
    "                oppneigh[i].append(resnames[allhead[neigh[nn][i][j]]])\n",
    "#           oppneighres[i].append(allhead[neigh[i][j]])\n",
    "\n",
    "    oppphase=list([] for _ in xrange(len(upperheads[nn])))\n",
    "    for i in range(len(upperheads[nn])):\n",
    "        oppneightot=len(oppneigh[i])\n",
    "        num_sat=0\n",
    "        for j in range(len(oppneigh[i])):\n",
    "            if (oppneigh[i][j]=='DXPC' or oppneigh[i][j]=='DBPC' or oppneigh[i][j]=='DPPC' or oppneigh[i][j]=='CHOL'):\n",
    "                num_sat=num_sat+1\n",
    "        if (oppneightot):\n",
    "            local_conc=float(num_sat)/oppneightot\n",
    "        else:\n",
    "            local_conc=0\n",
    "        if (local_conc > globalconc[nn]):\n",
    "            oppphase[i] = 1 #Lo\n",
    "        else:\n",
    "            oppphase[i] = 0 #Ld\n",
    "    \n",
    "\n",
    "# for more logical comparison, iterate twice, using upper Voronoi neighbors' oppphase values\n",
    "    oppphase2=list([] for _ in xrange(len(upperheads[nn])))\n",
    "    for i in range(len(upperheads[nn])):\n",
    "        vneightot=1+len(vneigh[i]) #include self, Voronoi same-leaflet neighbors\n",
    "        num_lo=0\n",
    "        if (oppphase[i]==0):\n",
    "            num_lo=num_lo+1\n",
    "        for j in range(len(vneigh[i])):\n",
    "            if (oppphase[vneighres[i][j]]==1):\n",
    "                num_lo=num_lo+1\n",
    "        local_conc=float(num_lo)/vneightot\n",
    "        if (local_conc > 0.49):\n",
    "            oppphase2[i]=1\n",
    "        else: \n",
    "            oppphase2[i]=0\n",
    "\n",
    "    oppphase3=list([] for _ in xrange(len(upperheads[nn])))\n",
    "    for i in range(len(upperheads[nn])):\n",
    "        vneightot=1+len(vneigh[i]) #include self, Voronoi same-leaflet neighbors\n",
    "        num_lo=0\n",
    "        if (oppphase2[i]==0):\n",
    "            num_lo=num_lo+1\n",
    "        for j in range(len(vneigh[i])):\n",
    "            if (oppphase2[vneighres[i][j]]==1):\n",
    "                num_lo=num_lo+1\n",
    "        local_conc=float(num_lo)/vneightot\n",
    "        if (local_conc > 0.49):\n",
    "            oppphase3[i]=1\n",
    "        else: \n",
    "            oppphase3[i]=0\n",
    "        \n",
    "        \n",
    "# compare oppphase3 to vphase3 to check for registration\n",
    "    reg[nn]=list([] for _ in xrange(len(upperheads[nn])))\n",
    "    for i in range(len(upperheads[nn])):\n",
    "        if (oppphase3[i]==vphase3[i]):\n",
    "            reg[nn][i]=1 # registered\n",
    "        else:\n",
    "            reg[nn][i]=0 # not registered\n",
    "    frac_reg[nn]=float(sum(reg[nn]))/len(reg[nn])"
   ]
  },
  {
   "cell_type": "code",
   "execution_count": 17,
   "metadata": {
    "collapsed": false
   },
   "outputs": [],
   "source": [
    "#x,y coordinates of outer for Voronoi\n",
    "headxy=list([] for _ in xrange(traj.n_frames)) #[frame][head]\n",
    "intmember=list([] for _ in xrange(traj.n_frames))\n",
    "intfrac=list([] for _ in xrange(traj.n_frames))\n",
    "regintfrac=list([] for _ in xrange(traj.n_frames))\n",
    "xcoeff=list([] for _ in xrange(traj.n_frames))\n",
    "ycoeff=list([] for _ in xrange(traj.n_frames))\n",
    "const=list([] for _ in xrange(traj.n_frames))\n",
    "areamultiplier=list([] for _ in xrange(traj.n_frames))\n",
    "for nn in range(traj.n_frames):\n",
    "#    headxy[nn]=list([] for _ in xrange(len(upperheads[nn])))\n",
    "    for i in range(len(upperheads[nn])):\n",
    "        upperheadsi=upperheads[nn][i]\n",
    "        headxy[nn].append(traj.xyz[nn][upperheadsi][0:2:1])\n",
    "        \n",
    "\n",
    "    vor=scipy.spatial.Voronoi(np.array(headxy[nn]))\n",
    "\n",
    "#Voronoi neighbors vneigh\n",
    "\n",
    "#generate list of neighbors, edgeneigh\n",
    "    edgeneigh=list([] for _ in xrange(len(upperheads[nn])))\n",
    "    for k in range(len(vor.ridge_points)):\n",
    "        pair=vor.ridge_points[k]\n",
    "        edgeneigh[pair[0]].append(pair[1])\n",
    "        edgeneigh[pair[1]].append(pair[0])\n",
    "\n",
    "\n",
    "\n",
    "    vneigh=list([] for _ in xrange(len(upperheads[nn])))  #lipid type\n",
    "    vneighres=list([] for _ in xrange(len(upperheads[nn])))\n",
    "    for i in range(len(upperheads[nn])):\n",
    "        vneighheads=edgeneigh[i] #upperhead index, not atom\n",
    "        if not vneighheads:\n",
    "            vneigh[i]=[]\n",
    "            vneighres[i]=[]\n",
    "        else:\n",
    "            for j in range(len(vneighheads)):\n",
    "                vneigh[i].append(resnames[upperheads[nn][vneighheads[j]]])\n",
    "                vneighres[i].append(vneighheads[j])\n",
    "\n",
    "\n",
    "#phase based on edges\n",
    "    vphase=list([] for _ in xrange(len(upperheads[nn])))\n",
    "    for i in range(len(upperheads[nn])):\n",
    "        vneightot=1+len(vneigh[i]) #include self\n",
    "        num_sat=0\n",
    "        if (resnames[upperheads[nn][j]]=='DXPC' or resnames[upperheads[nn][j]]=='DBPC' or resnames[upperheads[nn][j]]=='DPPC' or resnames[upperheads[nn][j]]=='CHOL'):\n",
    "            num_sat=num_sat+1\n",
    "        for j in range(len(vneigh[i])):\n",
    "            if (vneigh[i][j]=='DXPC' or vneigh[i][j]=='DBPC' or vneigh[i][j]=='DPPC' or vneigh[i][j]=='CHOL'):\n",
    "                num_sat=num_sat+1\n",
    "        vlocal_conc=float(num_sat)/vneightot #integer would always be zero\n",
    "        if (vlocal_conc > globalconc[nn]):\n",
    "            vphase[i] = 1 # Lo=1\n",
    "        else:\n",
    "            vphase[i] = 0 # Ld=0\n",
    "        \n",
    "#iterate edge-based phase determination to reduce small clusters\n",
    "    vphase2=list([] for _ in xrange(len(upperheads[nn])))\n",
    "    for i in range(len(upperheads[nn])):\n",
    "        vneightot=1+len(vneigh[i])\n",
    "        num_lo=0\n",
    "        if (vphase[i]==1):\n",
    "            num_lo=num_lo+1\n",
    "        for j in range(len(vneigh[i])):\n",
    "            if(vphase[vneighres[i][j]]==1):\n",
    "                num_lo=num_lo+1\n",
    "        vlocal_conc=float(num_lo)/vneightot\n",
    "        if (vlocal_conc > 0.49):\n",
    "            vphase2[i]=1\n",
    "        else:\n",
    "            vphase2[i]=0\n",
    "\n",
    "\n",
    "#iterate edge-based phase determination to reduce small clusters\n",
    "    vphase3=list([] for _ in xrange(len(upperheads[nn])))\n",
    "    for i in range(len(upperheads[nn])):\n",
    "        vneightot=1+len(vneigh[i])\n",
    "        num_lo=0\n",
    "        if (vphase2[i]==1):\n",
    "            num_lo=num_lo+1\n",
    "        for j in range(len(vneigh[i])):\n",
    "            if(vphase2[vneighres[i][j]]==1):\n",
    "                num_lo=num_lo+1\n",
    "        vlocal_conc=float(num_lo)/vneightot\n",
    "        if (vlocal_conc > 0.49):\n",
    "            vphase3[i]=1\n",
    "        else:\n",
    "            vphase3[i]=0\n",
    "\n",
    "# find Voronoi edges that are domain edges as well\n",
    "# find lipids that are \"members\" of the interface, i.e. have at least one edge on it\n",
    "    regint=0\n",
    "    intmember[nn]=list([] for _ in xrange(len(upperheads[nn])))\n",
    "    for i in range(len(upperheads[nn])):\n",
    "        vneightot=1+len(vneigh[i])\n",
    "        num_lo=0\n",
    "        if (vphase3[i]==1):\n",
    "            num_lo=num_lo+1\n",
    "        for j in range(len(vneigh[i])):\n",
    "            if(vphase3[vneighres[i][j]]==1):\n",
    "                num_lo=num_lo+1\n",
    "        vlocal_conc=float(num_lo)/vneightot\n",
    "        if (vlocal_conc==1 or vlocal_conc==0): #all same-phase neighbors\n",
    "            intmember[nn][i]=0\n",
    "        else: #not all neighbors belong to same phase\n",
    "            intmember[nn][i]=1\n",
    "            if (reg[nn][i]==1): #looking to see if int lipids are more often antiregistered\n",
    "                regint=regint+1\n",
    "    \n",
    "    intfrac[nn]=float(sum(intmember[nn]))/len(intmember[nn])\n",
    "    regintfrac[nn]=float(regint)/sum(intmember[nn]) #fraction of int lipids R, compare to overall\n",
    "    \n",
    "# NEW method 5/15/17 : calculate least-squares fit plane of all vneigh heads, compare \n",
    "# angle of this plane to +z-axis\n",
    "# solve z=ax+by+c plane\n",
    "\n",
    "\n",
    "    xcoeff[nn]=list([] for _ in xrange(len(upperheads[nn])))\n",
    "    ycoeff[nn]=list([] for _ in xrange(len(upperheads[nn])))\n",
    "    const[nn]=list([] for _ in xrange(len(upperheads[nn])))\n",
    "    areamultiplier[nn]=list([] for _ in xrange(len(upperheads[nn])))\n",
    "    for i in range(len(upperheads[nn])):\n",
    "        xcoords=[]\n",
    "        ycoords=[]\n",
    "        zcoords=[]\n",
    "        for j in range(len(vneighres[i])):\n",
    "            coord=traj.xyz[nn][upperheads[nn][vneighres[i][j]]] #change to vneigh\n",
    "            xcoords.append(coord[0])\n",
    "            ycoords.append(coord[1])\n",
    "            zcoords.append(coord[2])\n",
    "        A=np.vstack([xcoords,ycoords,np.ones(len(xcoords))]).T\n",
    "        a,b,c=np.linalg.lstsq(A,zcoords)[0]\n",
    "        xcoeff[nn][i]=a\n",
    "        ycoeff[nn][i]=b\n",
    "        const[nn][i]=c\n",
    "        #normal vector is [xcoeff, ycoeff, -1]\n",
    "        # Area_true = Area_voronoi*sqrt(a^2+b^2+1)\n",
    "        areamultiplier[nn][i]=np.sqrt(a*a+b*b+1)\n",
    " "
   ]
  },
  {
   "cell_type": "code",
   "execution_count": null,
   "metadata": {
    "collapsed": false
   },
   "outputs": [],
   "source": []
  },
  {
   "cell_type": "code",
   "execution_count": 22,
   "metadata": {
    "collapsed": false
   },
   "outputs": [],
   "source": [
    "# extract vertices of each Voronoi region, calculate the area of the polygon\n",
    "# applied to last frame \n",
    "# find surface area using calculated multiplier\n",
    "vorarea=list([] for _ in xrange(len(vor.point_region)))\n",
    "surfacearea=list([] for _ in xrange(len(vor.point_region)))\n",
    "for i in range(len(vor.point_region)):\n",
    "    verts=vor.regions[vor.point_region[i]] #indices of vertices forming that region\n",
    "    if (verts==[]): # no shape\n",
    "        vorarea[i]=0\n",
    "    elif (not -1 in verts): # \"normal\" situation\n",
    "        vertcoord=list([] for _ in xrange(len(verts))) #coordinates of vertices\n",
    "        edgefail=0\n",
    "        for j in range(len(verts)):\n",
    "            k=verts[j]\n",
    "            vertcoord[j]=vor.vertices[k]\n",
    "            if (vertcoord[j][0]>traj.unitcell_lengths[-1][0]\n",
    "                or vertcoord[j][1]>traj.unitcell_lengths[-1][1]\n",
    "                or vertcoord [j][0]<0\n",
    "                or vertcoord[j][1]<0):\n",
    "                edgefail+=1\n",
    "        areasum=vertcoord[-1][0]*vertcoord[0][1]-vertcoord[0][0]*vertcoord[-1][1]\n",
    "        for j in range(len(verts)-1):\n",
    "            areasum+=vertcoord[j][0]*vertcoord[j+1][1]-vertcoord[j+1][0]*vertcoord[j][1]\n",
    "        if (edgefail):\n",
    "            vorarea[i]=0\n",
    "        else: \n",
    "            vorarea[i]=np.abs(areasum)/2.0\n",
    "    else: # edge cases, can't find area\n",
    "        vorarea[i]=0\n",
    "    surfacearea[i]=vorarea[i]*areamultiplier[-1][i]\n"
   ]
  },
  {
   "cell_type": "code",
   "execution_count": 24,
   "metadata": {
    "collapsed": false
   },
   "outputs": [
    {
     "data": {
      "text/plain": [
       "2437"
      ]
     },
     "execution_count": 24,
     "metadata": {},
     "output_type": "execute_result"
    }
   ],
   "source": [
    "len(surfacearea)"
   ]
  },
  {
   "cell_type": "code",
   "execution_count": 26,
   "metadata": {
    "collapsed": false
   },
   "outputs": [
    {
     "data": {
      "text/plain": [
       "2437"
      ]
     },
     "execution_count": 26,
     "metadata": {},
     "output_type": "execute_result"
    }
   ],
   "source": [
    "len(areamultiplier[0])"
   ]
  },
  {
   "cell_type": "code",
   "execution_count": 27,
   "metadata": {
    "collapsed": false
   },
   "outputs": [
    {
     "data": {
      "text/plain": [
       "2437"
      ]
     },
     "execution_count": 27,
     "metadata": {},
     "output_type": "execute_result"
    }
   ],
   "source": [
    "len(upperheads[0])"
   ]
  },
  {
   "cell_type": "code",
   "execution_count": 19,
   "metadata": {
    "collapsed": false
   },
   "outputs": [
    {
     "name": "stderr",
     "output_type": "stream",
     "text": [
      "/Users/naveen/anaconda/lib/python2.7/site-packages/numpy/core/_methods.py:59: RuntimeWarning: Mean of empty slice.\n",
      "  warnings.warn(\"Mean of empty slice.\", RuntimeWarning)\n",
      "/Users/naveen/anaconda/lib/python2.7/site-packages/numpy/core/_methods.py:70: RuntimeWarning: invalid value encountered in double_scalars\n",
      "  ret = ret.dtype.type(ret / rcount)\n"
     ]
    },
    {
     "data": {
      "text/plain": [
       "[0.41491798257088425,\n",
       " nan,\n",
       " 0.59648408486956483,\n",
       " 0.54494890911603533,\n",
       " 0.57238080230837252,\n",
       " 0.55293922879943436,\n",
       " 0.56380021572121208]"
      ]
     },
     "execution_count": 19,
     "metadata": {},
     "output_type": "execute_result"
    }
   ],
   "source": [
    "# break out by lipid type\n",
    "# exclude 0 areas\n",
    "chol_areas=[]\n",
    "hightm_areas=[]\n",
    "lowtm_areas=[]\n",
    "reg_areas=[]\n",
    "antireg_areas=[]\n",
    "lo_areas=[]\n",
    "ld_areas=[]\n",
    "\n",
    "for i in range(len(surfacearea)):\n",
    "    if (surfacearea[i]!=0):\n",
    "        #lipid type\n",
    "        if (resnames[upperheads[-1][i]]=='DPPC' or resnames[upperheads[-1][i]]=='DBPC' or resnames[upperheads[-1][i]]=='DXPC'):\n",
    "            hightm_areas.append(surfacearea[i])\n",
    "        elif (resnames[upperheads[-1][i]]=='CHOL'):\n",
    "            chol_areas.append(surfacearea[i])\n",
    "        else:\n",
    "            lowtm_areas.append(surfacearea[i])\n",
    "        #reg status\n",
    "        if (reg[-1][i]):\n",
    "            reg_areas.append(surfacearea[i])\n",
    "        else:\n",
    "            antireg_areas.append(surfacearea[i])\n",
    "        #phase\n",
    "        if (vphase[i]):\n",
    "            lo_areas.append(surfacearea[i])\n",
    "        else:\n",
    "            ld_areas.append(surfacearea[i])\n",
    "\n",
    "chol_area=np.mean(chol_areas)\n",
    "hightm_area=np.mean(hightm_areas)\n",
    "lowtm_area=np.mean(lowtm_areas)\n",
    "reg_area=np.mean(reg_areas)\n",
    "antireg_area=np.mean(antireg_areas)\n",
    "lo_area=np.mean(lo_areas)\n",
    "ld_area=np.mean(ld_areas)\n",
    "\n",
    "[chol_area,hightm_area,lowtm_area,reg_area,antireg_area,lo_area,ld_area]"
   ]
  },
  {
   "cell_type": "code",
   "execution_count": 20,
   "metadata": {
    "collapsed": false
   },
   "outputs": [
    {
     "data": {
      "text/plain": [
       "3.1221397793391081"
      ]
     },
     "execution_count": 20,
     "metadata": {},
     "output_type": "execute_result"
    }
   ],
   "source": [
    "np.max(areamultiplier[-1])"
   ]
  },
  {
   "cell_type": "code",
   "execution_count": null,
   "metadata": {
    "collapsed": true
   },
   "outputs": [],
   "source": [
    "\n",
    "\n"
   ]
  },
  {
   "cell_type": "code",
   "execution_count": 21,
   "metadata": {
    "collapsed": false
   },
   "outputs": [
    {
     "data": {
      "image/png": "[encoded data removed]",
      "text/plain": [
       "<matplotlib.figure.Figure at 0x115f9a3d0>"
      ]
     },
     "metadata": {},
     "output_type": "display_data"
    }
   ],
   "source": [
    "#plot reg vs antireg\n",
    "# color Voronoi polygons\n",
    "fig,ax=plt.subplots(1)\n",
    "patches=[]\n",
    "cmap=plt.get_cmap('gray_r')\n",
    "#flatphase=[val for sublist in cphase for val in sublist]\n",
    "#colors=cmap([x*10 for x in flatphase])\n",
    "colors=cmap([(x) for x in surfacearea])\n",
    "#for region in range(len(vor.regions)):\n",
    "#    if not -1 in vor.regions[region]:\n",
    "#        pg=Polygon(vor.vertices,closed=True)\n",
    "#        patches.append(pg)\n",
    "\n",
    "\n",
    "\n",
    "\n",
    "for i in range(len(vor.point_region)):\n",
    "    verts=vor.regions[vor.point_region[i]] #indices of vertices forming that region\n",
    "    if (verts==[]):\n",
    "        pg=Polygon(np.array([[-1,-1],[-1.1,-1.1]]),closed=True)\n",
    "        patches.append(pg)\n",
    "    elif (not -1 in verts):\n",
    "        vertcoord=list([] for _ in xrange(len(verts))) #coordinates of vertices\n",
    "        for j in range(len(verts)):\n",
    "            k=verts[j]\n",
    "            vertcoord[j]=vor.vertices[k]\n",
    "        pg=Polygon(vertcoord,closed=True)\n",
    "        patches.append(pg)\n",
    "    else:\n",
    "        pg=Polygon(np.array([[-1,-1],[-1.1,-1.1]]),closed=True)\n",
    "        patches.append(pg)\n",
    "    \n",
    "\n",
    "\n",
    "\n",
    "collection=PatchCollection(patches)\n",
    "ax.add_collection(collection)\n",
    "collection.set_color(colors)\n",
    "        \n",
    "#plt.fill(*zip(*pg))\n",
    "ax.set_aspect('equal')\n",
    "ax.set_xlim([0,36.5])\n",
    "ax.set_ylim([0,36.5])\n",
    "\n",
    "plt.axis('off')\n",
    "\n",
    "#plt.savefig('p29_reg.pdf',format='pdf')\n",
    "plt.show()"
   ]
  },
  {
   "cell_type": "code",
   "execution_count": null,
   "metadata": {
    "collapsed": false
   },
   "outputs": [],
   "source": []
  },
  {
   "cell_type": "code",
   "execution_count": null,
   "metadata": {
    "collapsed": false
   },
   "outputs": [],
   "source": []
  },
  {
   "cell_type": "code",
   "execution_count": null,
   "metadata": {
    "collapsed": true
   },
   "outputs": [],
   "source": []
  }
 ],
 "metadata": {
  "kernelspec": {
   "display_name": "Python 2",
   "language": "python",
   "name": "python2"
  },
  "language_info": {
   "codemirror_mode": {
    "name": "ipython",
    "version": 2
   },
   "file_extension": ".py",
   "mimetype": "text/x-python",
   "name": "python",
   "nbconvert_exporter": "python",
   "pygments_lexer": "ipython2",
   "version": "2.7.13"
  }
 },
 "nbformat": 4,
 "nbformat_minor": 0
}
