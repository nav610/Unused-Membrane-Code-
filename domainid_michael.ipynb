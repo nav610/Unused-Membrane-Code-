{
 "cells": [
  {
   "cell_type": "markdown",
   "metadata": {},
   "source": [
    "identify domains in 3-component system using Voronoi edge method to determine neighbors and Lo/Ld; label domains and identify which lipid in each one; set min domain size\n",
    "then, look for fraction of registration across leaflets\n",
    "mdw 10/17/2016"
   ]
  },
  {
   "cell_type": "code",
   "execution_count": 92,
   "metadata": {
    "collapsed": true
   },
   "outputs": [],
   "source": [
    "from __future__ import print_function\n",
    "%matplotlib inline\n",
    "import mdtraj as md\n",
    "import numpy as np\n",
    "import matplotlib.pyplot as plt\n",
    "from matplotlib.collections import PatchCollection\n",
    "from matplotlib.patches import Polygon\n",
    "#import scipy.cluster.hierarchy\n",
    "import scipy.spatial"
   ]
  },
  {
   "cell_type": "code",
   "execution_count": 93,
   "metadata": {
    "collapsed": false
   },
   "outputs": [],
   "source": [
    "traj=md.load('../register/dbpc20_2.gro',top='../register/dbpc20_2.gro',stride=1)"
   ]
  },
  {
   "cell_type": "code",
   "execution_count": 94,
   "metadata": {
    "collapsed": false
   },
   "outputs": [
    {
     "data": {
      "text/plain": [
       "1"
      ]
     },
     "execution_count": 94,
     "metadata": {},
     "output_type": "execute_result"
    }
   ],
   "source": [
    "traj.n_frames"
   ]
  },
  {
   "cell_type": "code",
   "execution_count": 95,
   "metadata": {
    "collapsed": false
   },
   "outputs": [],
   "source": [
    "topology=traj.topology\n",
    "allhead=topology.select('name PO4 or name ROH')"
   ]
  },
  {
   "cell_type": "code",
   "execution_count": 96,
   "metadata": {
    "collapsed": false
   },
   "outputs": [],
   "source": [
    "resnames=[atom.residue.name for atom in topology.atoms]"
   ]
  },
  {
   "cell_type": "code",
   "execution_count": 97,
   "metadata": {
    "collapsed": true
   },
   "outputs": [],
   "source": [
    "#x,y coordinates of all for finding neighbors to determine local midplane z-value\n",
    "# here, best to use xy radius of neighbors, since Voronoi across 2 leaflets could have complications\n",
    "\n",
    "allheadxy=[]\n",
    "allheadz=[]\n",
    "##for nn in range(traj.n_frames):\n",
    "##    headxy[nn]=list([] for _ in xrange(uppertotal))\n",
    "for i in range(len(allhead)):\n",
    "    allheadi=allhead[i]\n",
    "    allheadxy.append(traj.xyz[0][allheadi][0:2:1])\n",
    "    allheadz.append(traj.xyz[0][allheadi][2])\n"
   ]
  },
  {
   "cell_type": "code",
   "execution_count": 98,
   "metadata": {
    "collapsed": false
   },
   "outputs": [],
   "source": [
    "# mdtraj can't handle neighbors for gro (rather than xtc) inputs, so do it myself\n",
    "cutoffsq = 2.4**2; #square of maximum xy distance for neighbors\n",
    "\n",
    "neigh=list([] for _ in xrange(len(allheadxy)))\n",
    "\n",
    "\n",
    "for i in range(len(allheadxy)):\n",
    "    xyi=allheadxy[i]\n",
    "    for j in range(len(allheadxy)-i-1): #not self, but will add for midplane finding\n",
    "        xyj=allheadxy[j+i+1]\n",
    "        distsq=(xyi[0]-xyj[0])**2 + (xyi[1]-xyj[1])**2\n",
    "        if (distsq < cutoffsq):\n",
    "            neigh[i].append(j+i+1)\n",
    "            neigh[j+i+1].append(i)\n",
    "        \n",
    "\n",
    "\n",
    "\n"
   ]
  },
  {
   "cell_type": "code",
   "execution_count": 99,
   "metadata": {
    "collapsed": false
   },
   "outputs": [],
   "source": [
    "#use neigh (flat) to calculate local midplane through median z-value of heads\n",
    "midplane=list([] for _ in xrange(len(allheadz)))\n",
    "for i in range(len(allheadz)):\n",
    "    localzs=[]\n",
    "    localzs.append(allheadz[i]) # include self\n",
    "    for j in range(len(neigh[i])):\n",
    "        localzs.append(allheadz[neigh[i][j]])\n",
    "    midplane[i]=(min(localzs)+max(localzs))/2.0"
   ]
  },
  {
   "cell_type": "code",
   "execution_count": 100,
   "metadata": {
    "collapsed": false
   },
   "outputs": [],
   "source": [
    "#have array with values placing each head in one leaflet: 0=lower, 1=upper, 2=between\n",
    "head_leaflet=list([] for _ in xrange(traj.n_frames))\n",
    "for nn in range(traj.n_frames):\n",
    "    head_leaflet[nn]=list([] for _ in xrange(len(allhead)))\n",
    "for i in range(len(allhead)):\n",
    "    if allheadz[i]<midplane[i]-0.1:\n",
    "        head_leaflet[0][i]=0\n",
    "    elif allheadz[i]>midplane[i]+0.1:\n",
    "        head_leaflet[0][i]=1\n",
    "    else:\n",
    "        head_leaflet[0][i]=2\n",
    "    \n",
    "    "
   ]
  },
  {
   "cell_type": "code",
   "execution_count": 101,
   "metadata": {
    "collapsed": true
   },
   "outputs": [],
   "source": [
    "# only need upper leaflet heads for this situation\n",
    "upperheads=[]\n",
    "for i in range(len(allhead)):\n",
    "    if head_leaflet[0][i]==1:\n",
    "        upperheads.append(allhead[i])"
   ]
  },
  {
   "cell_type": "code",
   "execution_count": 102,
   "metadata": {
    "collapsed": false
   },
   "outputs": [],
   "source": [
    "#count DPPC as fraction of upper total, to find global concentration of DPPC\n",
    "#upperdppc=list([] for _ in xrange(traj.n_frames))\n",
    "#uppertotal=list([] for _ in xrange(traj.n_frames))\n",
    "#globalconc=list([] for _ in xrange(traj.n_frames))\n",
    "\n",
    "upperdppc=0\n",
    "for j in range(len(upperheads)):\n",
    "    if(resnames[upperheads[j]]=='DBPC' or resnames[upperheads[j]]=='CHOL'):\n",
    "        upperdppc=upperdppc+1\n",
    "globalconc=float(upperdppc)/len(upperheads)\n"
   ]
  },
  {
   "cell_type": "code",
   "execution_count": 103,
   "metadata": {
    "collapsed": false
   },
   "outputs": [],
   "source": [
    "#x,y coordinates of outer for Voronoi\n",
    "#headxy=list([] for _ in xrange(traj.n_frames)) #[frame][head]\n",
    "headxy=[]\n",
    "##for nn in range(traj.n_frames):\n",
    "##    headxy[nn]=list([] for _ in xrange(uppertotal))\n",
    "for i in range(len(upperheads)):\n",
    "    upperheadsi=upperheads[i]\n",
    " #   for j in range(traj.n_frames):\n",
    " #   if (head_leaflet[0][i]==1):\n",
    "    headxy.append(traj.xyz[0][upperheadsi][0:2:1])\n"
   ]
  },
  {
   "cell_type": "code",
   "execution_count": 104,
   "metadata": {
    "collapsed": false
   },
   "outputs": [],
   "source": [
    "vor=scipy.spatial.Voronoi(np.array(headxy))\n",
    "#scipy.spatial.voronoi_plot_2d(vor)\n"
   ]
  },
  {
   "cell_type": "code",
   "execution_count": 105,
   "metadata": {
    "collapsed": false
   },
   "outputs": [],
   "source": [
    "#Voronoi neighbors vneigh\n",
    "\n",
    "#generate list of neighbors, edgeneigh\n",
    "edgeneigh=list([] for _ in xrange(len(upperheads)))\n",
    "for k in range(len(vor.ridge_points)):\n",
    "    pair=vor.ridge_points[k]\n",
    "    edgeneigh[pair[0]].append(pair[1])\n",
    "    edgeneigh[pair[1]].append(pair[0])\n",
    "\n",
    "\n",
    "\n",
    "vneigh=list([] for _ in xrange(len(upperheads))) #need two deep (x num frames) #lipid type\n",
    "vneighres=list([] for _ in xrange(len(upperheads)))\n",
    "#only frame 8, for now\n",
    "for i in range(len(upperheads)):\n",
    "#    upperheadi=upperheads[i]\n",
    "    vneighheads=edgeneigh[i] #upperhead index, not atom\n",
    "    if not vneighheads:\n",
    "        vneigh[i]=[]\n",
    "        vneighres[i]=[]\n",
    "    else:\n",
    "        for j in range(len(vneighheads)):\n",
    "            vneigh[i].append(resnames[upperheads[vneighheads[j]]])\n",
    "            vneighres[i].append(vneighheads[j])\n",
    "\n",
    "\n",
    "\n",
    "\n",
    "\n"
   ]
  },
  {
   "cell_type": "code",
   "execution_count": 106,
   "metadata": {
    "collapsed": true
   },
   "outputs": [],
   "source": [
    "#phase based on edges\n",
    "vphase=list([] for _ in xrange(len(upperheads)))\n",
    "for i in range(len(upperheads)):\n",
    "    vneightot=1+len(vneigh[i]) #include self\n",
    "    num_sat=0\n",
    "    if (resnames[upperheads[i]]=='DBPC' or resnames[upperheads[i]]=='CHOL'):\n",
    "            num_sat=num_sat+1\n",
    "    for j in range(len(vneigh[i])):\n",
    "        if (vneigh[i][j]=='DBPC' or vneigh[i][j]=='CHOL'):\n",
    "            num_sat=num_sat+1\n",
    "    vlocal_conc=float(num_sat)/vneightot #integer would always be zero\n",
    "    if (vlocal_conc > globalconc):\n",
    "        vphase[i] = 1 # Lo=1\n",
    "    else:\n",
    "        vphase[i] = 0 # Ld=0\n",
    "        "
   ]
  },
  {
   "cell_type": "code",
   "execution_count": 107,
   "metadata": {
    "collapsed": true
   },
   "outputs": [],
   "source": [
    "#iterate edge-based phase determination to reduce small clusters\n",
    "vphase2=list([] for _ in xrange(len(upperheads)))\n",
    "for i in range(len(upperheads)):\n",
    "    vneightot=1+len(vneigh[i])\n",
    "    num_lo=0\n",
    "    if (vphase[i]==1):\n",
    "        num_lo=num_lo+1\n",
    "    for j in range(len(vneigh[i])):\n",
    "        if(vphase[vneighres[i][j]]==1):\n",
    "            num_lo=num_lo+1\n",
    "    vlocal_conc=float(num_lo)/vneightot\n",
    "    if (vlocal_conc > 0.49):\n",
    "        vphase2[i]=1\n",
    "    else:\n",
    "        vphase2[i]=0"
   ]
  },
  {
   "cell_type": "code",
   "execution_count": 108,
   "metadata": {
    "collapsed": false
   },
   "outputs": [],
   "source": [
    "#iterate edge-based phase determination to reduce small clusters\n",
    "vphase3=list([] for _ in xrange(len(upperheads)))\n",
    "for i in range(len(upperheads)):\n",
    "    vneightot=1+len(vneigh[i])\n",
    "    num_lo=0\n",
    "    if (vphase2[i]==1):\n",
    "        num_lo=num_lo+1\n",
    "    for j in range(len(vneigh[i])):\n",
    "        if(vphase2[vneighres[i][j]]==1):\n",
    "            num_lo=num_lo+1\n",
    "    vlocal_conc=float(num_lo)/vneightot\n",
    "    if (vlocal_conc > 0.49):\n",
    "        vphase3[i]=1\n",
    "    else:\n",
    "        vphase3[i]=0"
   ]
  },
  {
   "cell_type": "code",
   "execution_count": 123,
   "metadata": {
    "collapsed": false
   },
   "outputs": [
    {
     "data": {
      "image/png": "[encoded data removed]",
      "text/plain": [
       "<matplotlib.figure.Figure at 0x10bdc6c50>"
      ]
     },
     "metadata": {},
     "output_type": "display_data"
    }
   ],
   "source": [
    "# color Voronoi polygons\n",
    "fig,ax=plt.subplots(1)\n",
    "patches=[]\n",
    "cmap=plt.get_cmap('autumn')\n",
    "#flatphase=[val for sublist in cphase for val in sublist]\n",
    "#colors=cmap([x*10 for x in flatphase])\n",
    "colors=cmap([(x*256) for x in vphase3])\n",
    "#for region in range(len(vor.regions)):\n",
    "#    if not -1 in vor.regions[region]:\n",
    "#        pg=Polygon(vor.vertices,closed=True)\n",
    "#        patches.append(pg)\n",
    "\n",
    "\n",
    "\n",
    "\n",
    "for i in range(len(vor.point_region)):\n",
    "    verts=vor.regions[vor.point_region[i]] #indices of vertices forming that region\n",
    "    if (verts==[]):\n",
    "        pg=Polygon(np.array([[-1,-1],[-1.1,-1.1]]),closed=True)\n",
    "        patches.append(pg)\n",
    "    elif (not -1 in verts):\n",
    "        vertcoord=list([] for _ in xrange(len(verts))) #coordinates of vertices\n",
    "        for j in range(len(verts)):\n",
    "            k=verts[j]\n",
    "            vertcoord[j]=vor.vertices[k]\n",
    "        pg=Polygon(vertcoord,closed=True)\n",
    "        patches.append(pg)\n",
    "    else:\n",
    "        pg=Polygon(np.array([[-1,-1],[-1.1,-1.1]]),closed=True)\n",
    "        patches.append(pg)\n",
    "    \n",
    "\n",
    "\n",
    "\n",
    "collection=PatchCollection(patches)\n",
    "ax.add_collection(collection)\n",
    "collection.set_color(colors)\n",
    "        \n",
    "#plt.fill(*zip(*pg))\n",
    "ax.set_aspect('equal')\n",
    "ax.set_xlim([0,36.5])\n",
    "ax.set_ylim([0,36.5])\n",
    "\n",
    "plt.axis('off')\n",
    "\n",
    "#plt.savefig('50_2_phases.pdf',format='pdf')\n",
    "plt.show()"
   ]
  },
  {
   "cell_type": "code",
   "execution_count": 110,
   "metadata": {
    "collapsed": false
   },
   "outputs": [],
   "source": [
    "# identify and number domains, then determine which are too small\n",
    "# start with 1st lipid, call domain 1, label all neighbors in same phase as also domain 1,...\n",
    "# reserve domain 0 for unassigned, so 1 is 1st domain"
   ]
  },
  {
   "cell_type": "code",
   "execution_count": 111,
   "metadata": {
    "collapsed": false
   },
   "outputs": [],
   "source": [
    "domain=list([] for _ in xrange(len(upperheads)))\n",
    "for i in range(len(upperheads)):\n",
    "    domain[i]=0 # 0 = unassigned\n",
    "\n",
    "recurlist=[] # list of heads that must run through domain algorithm because in chain of neighbors\n",
    "    \n",
    "domain[0]=1 # first lipid sets first domain\n",
    "for i in range(len(vneighres[0])): # vneighres is allheadz index, not atom\n",
    "    ni=vneighres[0][i]\n",
    "    if vphase3[ni]==vphase3[0]: #only neighbors in same phase\n",
    "        domain[ni]=1\n",
    "        recurlist.append(ni)\n",
    "num_domains=1\n",
    "\n",
    "while len(recurlist): # no new domain should be introduced in this section\n",
    "    headi=recurlist[0]\n",
    "    neighi=vneighres[headi]\n",
    "    recurlist=recurlist[1:] # remove 1st element, now being handled\n",
    "    for j in range(len(neighi)):\n",
    "        ni=neighi[j]\n",
    "        if (vphase3[ni]==vphase3[headi] and domain[ni]==0): #avoid infinitely putting back into recurlist\n",
    "            domain[ni]=domain[headi]\n",
    "            recurlist.append(ni)\n",
    "\n",
    "#now iterate over other lipids, excluding those already marked\n",
    "for i in range(len(upperheads)-1): # 0 already done\n",
    "    if domain[i+1]==0: #not yet marked\n",
    "        neighi=vneighres[i+1]\n",
    "        num_domains=num_domains+1\n",
    "        domain[i+1]=num_domains\n",
    "        for j in range(len(neighi)):\n",
    "            ni=neighi[j]\n",
    "            if vphase3[ni]==vphase3[i+1]:\n",
    "                domain[ni]=domain[i+1] \n",
    "                recurlist.append(ni)\n",
    "        while len(recurlist): #until exhausted, then move onto next new domain\n",
    "            headi=recurlist[0]\n",
    "            neighi=vneighres[headi]\n",
    "            recurlist=recurlist[1:]\n",
    "            for j in range(len(neighi)):\n",
    "                ni=neighi[j]\n",
    "                if (vphase3[ni]==vphase3[headi] and domain[ni]==0):\n",
    "                    domain[ni]=domain[headi]\n",
    "                    recurlist.append(ni)\n",
    "        \n",
    "    \n",
    "    \n"
   ]
  },
  {
   "cell_type": "code",
   "execution_count": 112,
   "metadata": {
    "collapsed": false
   },
   "outputs": [
    {
     "data": {
      "text/plain": [
       "4"
      ]
     },
     "execution_count": 112,
     "metadata": {},
     "output_type": "execute_result"
    }
   ],
   "source": [
    "max(domain)"
   ]
  },
  {
   "cell_type": "code",
   "execution_count": 72,
   "metadata": {
    "collapsed": false
   },
   "outputs": [
    {
     "data": {
      "text/plain": [
       "[84, 2222, 2221, 334, 1351]"
      ]
     },
     "execution_count": 72,
     "metadata": {},
     "output_type": "execute_result"
    }
   ],
   "source": [
    "vneighres[-1]"
   ]
  },
  {
   "cell_type": "code",
   "execution_count": 128,
   "metadata": {
    "collapsed": false
   },
   "outputs": [
    {
     "data": {
      "image/png": "[encoded data removed]",
      "text/plain": [
       "<matplotlib.figure.Figure at 0x10f798c50>"
      ]
     },
     "metadata": {},
     "output_type": "display_data"
    }
   ],
   "source": [
    "# color Voronoi polygons by domain number\n",
    "fig,ax=plt.subplots(1)\n",
    "patches=[]\n",
    "cmap=plt.get_cmap('Set1')\n",
    "#flatphase=[val for sublist in cphase for val in sublist]\n",
    "#colors=cmap([x*10 for x in flatphase])\n",
    "colors=cmap([x/4. for x in domain_adjusted])\n",
    "#for region in range(len(vor.regions)):\n",
    "#    if not -1 in vor.regions[region]:\n",
    "#        pg=Polygon(vor.vertices,closed=True)\n",
    "#        patches.append(pg)\n",
    "\n",
    "\n",
    "\n",
    "\n",
    "for i in range(len(vor.point_region)):\n",
    "    verts=vor.regions[vor.point_region[i]] #indices of vertices forming that region\n",
    "    if (verts==[]):\n",
    "        pg=Polygon(np.array([[-1,-1],[-1.1,-1.1]]),closed=True)\n",
    "        patches.append(pg)\n",
    "    elif (not -1 in verts):\n",
    "        vertcoord=list([] for _ in xrange(len(verts))) #coordinates of vertices\n",
    "        for j in range(len(verts)):\n",
    "            k=verts[j]\n",
    "            vertcoord[j]=vor.vertices[k]\n",
    "        pg=Polygon(vertcoord,closed=True)\n",
    "        patches.append(pg)\n",
    "    else:\n",
    "        pg=Polygon(np.array([[-1,-1],[-1.1,-1.1]]),closed=True)\n",
    "        patches.append(pg)\n",
    "    \n",
    "\n",
    "\n",
    "\n",
    "collection=PatchCollection(patches)\n",
    "ax.add_collection(collection)\n",
    "collection.set_color(colors)\n",
    "        \n",
    "#plt.fill(*zip(*pg))\n",
    "ax.set_aspect('equal')\n",
    "ax.set_xlim([0,36.5])\n",
    "ax.set_ylim([0,36.5])\n",
    "\n",
    "plt.axis('off')\n",
    "\n",
    "#plt.savefig('dpbc20_2_domains_adjust_pbc&size.pdf',format='pdf')\n",
    "plt.show()"
   ]
  },
  {
   "cell_type": "code",
   "execution_count": 121,
   "metadata": {
    "collapsed": false
   },
   "outputs": [],
   "source": [
    "domain_test=list([] for _ in xrange(len(domain)))\n",
    "for i in range(len(domain_test)):\n",
    "    if domain[i]==4:\n",
    "        domain_test[i]=1.0\n",
    "    else:\n",
    "        domain_test[i]=0.0"
   ]
  },
  {
   "cell_type": "code",
   "execution_count": 38,
   "metadata": {
    "collapsed": true
   },
   "outputs": [],
   "source": [
    "# how to fix non-recognition across periodic boundary?\n",
    "## manually, for now; 6 is part of 2; 4&5 are part of 1\n",
    "# 3, 4 part of 2\n",
    "domain_adjusted=list([] for _ in xrange(len(domain)))\n",
    "for i in range(len(domain_adjusted)):\n",
    "    if (domain[i]==3):# ==6):\n",
    "        domain_adjusted[i]=2\n",
    "#    elif (domain[i]==4 or domain[i]==5):\n",
    "#        domain_adjusted[i]=1\n",
    "    else:\n",
    "        domain_adjusted[i]=domain[i]"
   ]
  },
  {
   "cell_type": "code",
   "execution_count": 124,
   "metadata": {
    "collapsed": false
   },
   "outputs": [],
   "source": [
    "# see how many lipids in each domain\n",
    "num_domains=max(domain)\n",
    "domainsize=list([] for _ in xrange(num_domains))\n",
    "for i in range(len(domainsize)):\n",
    "    domainsize[i]=0\n",
    "for i in range(len(domain)):\n",
    "    di=domain[i]-1 #return to 0-index\n",
    "    domainsize[di]=domainsize[di]+1\n",
    "    "
   ]
  },
  {
   "cell_type": "code",
   "execution_count": 125,
   "metadata": {
    "collapsed": false
   },
   "outputs": [
    {
     "data": {
      "text/plain": [
       "[1071, 653, 593, 106]"
      ]
     },
     "execution_count": 125,
     "metadata": {},
     "output_type": "execute_result"
    }
   ],
   "source": [
    "domainsize"
   ]
  },
  {
   "cell_type": "code",
   "execution_count": 86,
   "metadata": {
    "collapsed": false
   },
   "outputs": [],
   "source": [
    "# see how many lipids in each domain\n",
    "num_domainsadj=max(domain_adjusted)\n",
    "domainsizeadj=list([] for _ in xrange(num_domainsadj))\n",
    "for i in range(len(domainsizeadj)):\n",
    "    domainsizeadj[i]=0\n",
    "for i in range(len(domain_adjusted)):\n",
    "    di=domain_adjusted[i]-1 #return to 0-index\n",
    "    domainsizeadj[di]=domainsizeadj[di]+1\n",
    "    "
   ]
  },
  {
   "cell_type": "code",
   "execution_count": 87,
   "metadata": {
    "collapsed": false
   },
   "outputs": [
    {
     "data": {
      "text/plain": [
       "[1199, 1082]"
      ]
     },
     "execution_count": 87,
     "metadata": {},
     "output_type": "execute_result"
    }
   ],
   "source": [
    "domainsizeadj"
   ]
  },
  {
   "cell_type": "code",
   "execution_count": 126,
   "metadata": {
    "collapsed": false
   },
   "outputs": [],
   "source": [
    "# how to fix too-small domains?\n",
    "# use domain size measurements, but must find a way to identify surrounding domain's number\n",
    "# manually, for now; 6 is part of 2; 4&5 are part of 1\n",
    "# 7,8,9 too small --> switch to 2 (opp phase)\n",
    "# 10,11,12,13,14,15,16 --> switch to 1 (opp phase)\n",
    "# 3, only 32 lipids, left alone for now\n",
    "domain_adjusted=list([] for _ in xrange(len(domain)))\n",
    "for i in range(len(domain_adjusted)):\n",
    "    if (domain[i]==3 or domain[i]==2):\n",
    "        domain_adjusted[i]=2\n",
    "    elif (domain[i]==4):\n",
    "        domain_adjusted[i]=3\n",
    "#    elif (domain[i]==7 or domain[i]==9 or domain[i]==11 or domain[i]==12 or domain[i]==13):\n",
    "#        domain_adjusted[i]=1\n",
    "    else:\n",
    "        domain_adjusted[i]=1\n",
    "#        domain_adjusted[i]=domain[i]"
   ]
  },
  {
   "cell_type": "code",
   "execution_count": null,
   "metadata": {
    "collapsed": false
   },
   "outputs": [],
   "source": []
  },
  {
   "cell_type": "code",
   "execution_count": 46,
   "metadata": {
    "collapsed": false
   },
   "outputs": [],
   "source": [
    "# what are compositions of adjusted domains 1,2,3?\n",
    "dbpc1=0\n",
    "dbpc2=0\n",
    "dbpc4=0\n",
    "dbpc5=0\n",
    "dupc1=0\n",
    "dupc2=0\n",
    "dupc4=0\n",
    "dupc5=0\n",
    "chol1=0\n",
    "chol2=0\n",
    "chol4=0\n",
    "chol5=0\n",
    "for i in range(len(upperheads)):\n",
    "    if (resnames[upperheads[i]]=='DPPC'):\n",
    "        if (domain_adjusted[i]==1):\n",
    "            dbpc1=dbpc1+1\n",
    "        elif (domain_adjusted[i]==2):\n",
    "            dbpc2=dbpc2+1\n",
    "        elif (domain_adjusted[i]==4):\n",
    "            dbpc4=dbpc4+1\n",
    "        elif (domain_adjusted[i]==5):\n",
    "            dbpc5=dbpc5+1\n",
    "    elif (resnames[upperheads[i]]=='DUPC'):\n",
    "        if (domain_adjusted[i]==1):\n",
    "            dupc1=dupc1+1\n",
    "        elif (domain_adjusted[i]==2):\n",
    "            dupc2=dupc2+1 \n",
    "        elif (domain_adjusted[i]==4):\n",
    "            dupc4=dupc4+1\n",
    "        elif (domain_adjusted[i]==5):\n",
    "            dupc5=dupc5+1\n",
    "    elif (resnames[upperheads[i]]=='CHOL'):\n",
    "        if (domain_adjusted[i]==1):\n",
    "            chol1=chol1+1\n",
    "        elif (domain_adjusted[i]==2):\n",
    "            chol2=chol2+1\n",
    "        elif (domain_adjusted[i]==4):\n",
    "            chol4=chol4+1\n",
    "        elif (domain_adjusted[i]==5):\n",
    "            chol5=chol5+1"
   ]
  },
  {
   "cell_type": "code",
   "execution_count": 47,
   "metadata": {
    "collapsed": false
   },
   "outputs": [
    {
     "data": {
      "text/plain": [
       "[642, 55, 4, 1, 108, 654, 47, 10, 595, 195, 25, 3]"
      ]
     },
     "execution_count": 47,
     "metadata": {},
     "output_type": "execute_result"
    }
   ],
   "source": [
    "[dbpc1, dbpc2, dbpc4, dbpc5, dupc1, dupc2, dupc4, dupc5, chol1, chol2, chol4, chol5]"
   ]
  },
  {
   "cell_type": "code",
   "execution_count": null,
   "metadata": {
    "collapsed": false
   },
   "outputs": [],
   "source": []
  },
  {
   "cell_type": "code",
   "execution_count": 65,
   "metadata": {
    "collapsed": false
   },
   "outputs": [],
   "source": [
    "# for too-small domains, go through each lipid until find one with a neighbors in another domain\n",
    "# other domain will necessarily be opposite-phase\n",
    "# to be done after manual fix of periodic boundary issues\n"
   ]
  },
  {
   "cell_type": "code",
   "execution_count": 69,
   "metadata": {
    "collapsed": true
   },
   "outputs": [],
   "source": [
    "num_small_domains=0\n",
    "for i in range(len(domainsizeadj)):\n",
    "    if (domainsizeadj[i]<50 and domainsizeadj[i]>0):\n",
    "        num_small_domains=num_small_domains+1\n",
    "\n",
    "while (num_small_domains): \n",
    "    \n",
    "    "
   ]
  },
  {
   "cell_type": "code",
   "execution_count": 72,
   "metadata": {
    "collapsed": false
   },
   "outputs": [
    {
     "data": {
      "text/plain": [
       "10"
      ]
     },
     "execution_count": 72,
     "metadata": {},
     "output_type": "execute_result"
    }
   ],
   "source": [
    "num_domainsadj"
   ]
  },
  {
   "cell_type": "code",
   "execution_count": null,
   "metadata": {
    "collapsed": true
   },
   "outputs": [],
   "source": [
    "# remove small domains\n",
    "for i in range(num_domainsadj):\n",
    "    if (domainsizeadj[i]<50 and domainsizeadj[i]>0): #not already emptied\n",
    "        # find first lipid which touches another domain, incorporate to that\n",
    "        notfound=1\n",
    "        j=0\n",
    "        while notfound:\n",
    "            domain_adjusted["
   ]
  },
  {
   "cell_type": "code",
   "execution_count": null,
   "metadata": {
    "collapsed": true
   },
   "outputs": [],
   "source": []
  },
  {
   "cell_type": "code",
   "execution_count": null,
   "metadata": {
    "collapsed": true
   },
   "outputs": [],
   "source": []
  },
  {
   "cell_type": "code",
   "execution_count": null,
   "metadata": {
    "collapsed": true
   },
   "outputs": [],
   "source": []
  },
  {
   "cell_type": "code",
   "execution_count": null,
   "metadata": {
    "collapsed": true
   },
   "outputs": [],
   "source": []
  },
  {
   "cell_type": "code",
   "execution_count": null,
   "metadata": {
    "collapsed": true
   },
   "outputs": [],
   "source": []
  }
 ],
 "metadata": {
  "kernelspec": {
   "display_name": "Python 2",
   "language": "python",
   "name": "python2"
  },
  "language_info": {
   "codemirror_mode": {
    "name": "ipython",
    "version": 2
   },
   "file_extension": ".py",
   "mimetype": "text/x-python",
   "name": "python",
   "nbconvert_exporter": "python",
   "pygments_lexer": "ipython2",
   "version": "2.7.13"
  }
 },
 "nbformat": 4,
 "nbformat_minor": 0
}
