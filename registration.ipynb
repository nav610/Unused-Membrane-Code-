{
 "cells": [
  {
   "cell_type": "markdown",
   "metadata": {},
   "source": [
    "identify domains in 3-component system using Voronoi edge method to determine neighbors and Lo/Ld\n",
    "\n",
    "then, find domain interface length from Voronoi edges\n",
    "\n",
    "based off of registration fraction code\n",
    "\n",
    "mdw 02/03/2017\n"
   ]
  },
  {
   "cell_type": "code",
   "execution_count": 1,
   "metadata": {
    "collapsed": true
   },
   "outputs": [],
   "source": [
    "from __future__ import print_function\n",
    "%matplotlib inline\n",
    "import mdtraj as md\n",
    "import numpy as np\n",
    "import matplotlib.pyplot as plt\n",
    "from matplotlib.collections import PatchCollection\n",
    "from matplotlib.patches import Polygon\n",
    "#import scipy.cluster.hierarchy\n",
    "import scipy.spatial"
   ]
  },
  {
   "cell_type": "code",
   "execution_count": 2,
   "metadata": {
    "collapsed": false
   },
   "outputs": [],
   "source": [
    "traj=md.load('DBPC_Rho=one_mdProduction_5us.xtc',top='DBPC_Rho=one_mdProduction_5us.gro',stride=12)"
   ]
  },
  {
   "cell_type": "code",
   "execution_count": 3,
   "metadata": {
    "collapsed": true
   },
   "outputs": [],
   "source": [
    "name='DBPC_Rho=one_5us'"
   ]
  },
  {
   "cell_type": "code",
   "execution_count": 4,
   "metadata": {
    "collapsed": false
   },
   "outputs": [],
   "source": [
    "frames=traj.n_frames"
   ]
  },
  {
   "cell_type": "code",
   "execution_count": 5,
   "metadata": {
    "collapsed": false
   },
   "outputs": [
    {
     "data": {
      "text/plain": [
       "19"
      ]
     },
     "execution_count": 5,
     "metadata": {},
     "output_type": "execute_result"
    }
   ],
   "source": [
    "frames"
   ]
  },
  {
   "cell_type": "code",
   "execution_count": 6,
   "metadata": {
    "collapsed": false
   },
   "outputs": [],
   "source": [
    "topology=traj.topology\n",
    "allhead=topology.select('name PO4 or name ROH')"
   ]
  },
  {
   "cell_type": "code",
   "execution_count": 7,
   "metadata": {
    "collapsed": false
   },
   "outputs": [],
   "source": [
    "resnames=[atom.residue.name for atom in topology.atoms]"
   ]
  },
  {
   "cell_type": "code",
   "execution_count": 8,
   "metadata": {
    "collapsed": false
   },
   "outputs": [],
   "source": [
    "#x,y coordinates of all for finding neighbors to determine local midplane z-value\n",
    "# here, best to use xy radius of neighbors, since Voronoi across 2 leaflets could have complications\n",
    "\n",
    "allheadxy=list([] for _ in xrange(traj.n_frames))\n",
    "allheadz=list([] for _ in xrange(traj.n_frames))\n",
    "for nn in range(traj.n_frames):\n",
    "    for i in range(len(allhead)):\n",
    "        allheadi=allhead[i]\n",
    "        allheadxy[nn].append(traj.xyz[nn][allheadi][0:2:1])\n",
    "        allheadz[nn].append(traj.xyz[nn][allheadi][2])\n"
   ]
  },
  {
   "cell_type": "code",
   "execution_count": 9,
   "metadata": {
    "collapsed": false
   },
   "outputs": [],
   "source": [
    "# mdtraj can't handle neighbors for gro (rather than xtc) inputs, so do it myself\n",
    "#cutoffsq = 2.4**2; #square of maximum xy distance for neighbors\n",
    "cutoffsq=5.0**2\n",
    "neigh=list([] for _ in xrange(traj.n_frames))\n",
    "for nn in range(traj.n_frames):\n",
    "    neigh[nn]=list([] for _ in xrange(len(allhead)))\n",
    "    for i in range(len(allheadxy[nn])):\n",
    "        xyi=allheadxy[nn][i]\n",
    "        for j in range(len(allhead)-i-1): #not self, but will add for midplane finding\n",
    "            xyj=allheadxy[nn][j+i+1]\n",
    "            distsq=(xyi[0]-xyj[0])**2 + (xyi[1]-xyj[1])**2\n",
    "            if (distsq < cutoffsq):\n",
    "                neigh[nn][i].append(j+i+1)\n",
    "                neigh[nn][j+i+1].append(i)\n",
    "  "
   ]
  },
  {
   "cell_type": "code",
   "execution_count": 10,
   "metadata": {
    "collapsed": false
   },
   "outputs": [],
   "source": [
    "#new leaflet id method based on tilt angles; PO4-C4A or ROH-C1 (both +6 beads)\n",
    "num_head=len(allhead)\n",
    "tiltvectors=list([] for _ in xrange(traj.n_frames))\n",
    "\n",
    "for nn in range(traj.n_frames):\n",
    "    tiltvectors[nn]=list([] for _ in xrange(num_head)) #store vector roh-c1 or po4-c4a\n",
    "    \n",
    "    for i in range(num_head):\n",
    "        tiltvectors[nn][i]=traj.xyz[nn][allhead[i]]-traj.xyz[nn][allhead[i]+6]\n"
   ]
  },
  {
   "cell_type": "code",
   "execution_count": 11,
   "metadata": {
    "collapsed": false
   },
   "outputs": [],
   "source": [
    "# must fix periodic boundary condition errors in tiltvectors, then calculate tiltangle\n",
    "norms=list([] for _ in xrange(traj.n_frames))\n",
    "for nn in range(traj.n_frames):\n",
    "    norms[nn]=list([] for _ in xrange(len(allhead)))\n",
    "    halfx=0.5*traj.unitcell_lengths[nn][0]\n",
    "    halfy=0.5*traj.unitcell_lengths[nn][1]\n",
    "    halfz=0.5*traj.unitcell_lengths[nn][2]\n",
    "    for i in range(len(allhead)):\n",
    "        norms[nn][i]=np.linalg.norm(tiltvectors[nn][i])\n",
    "        if (norms[nn][i] > halfz):\n",
    "            if (np.abs(tiltvectors[nn][i][0]) > halfx):\n",
    "                if (tiltvectors[nn][i][0]>0): \n",
    "                    tiltvectors[nn][i][0]=tiltvectors[nn][i][0]-2*halfx\n",
    "                else:\n",
    "                    tiltvectors[nn][i][0]=tiltvectors[nn][i][0]+2*halfx\n",
    "            if (np.abs(tiltvectors[nn][i][1]) > halfy):\n",
    "                if (tiltvectors[nn][i][1]>0): \n",
    "                    tiltvectors[nn][i][1]=tiltvectors[nn][i][1]-2*halfy\n",
    "                else:\n",
    "                    tiltvectors[nn][i][1]=tiltvectors[nn][i][1]+2*halfy\n",
    "            if (np.abs(tiltvectors[nn][i][2]) > halfz):\n",
    "                if (tiltvectors[nn][i][2]>0): \n",
    "                    tiltvectors[nn][i][2]=tiltvectors[nn][i][2]-2*halfz\n",
    "                else:\n",
    "                    tiltvectors[nn][i][2]=tiltvectors[nn][i][2]+2*halfz\n",
    "\n",
    "    for i in range(len(allhead)):\n",
    "        norms[nn][i]=np.linalg.norm(tiltvectors[nn][i])\n"
   ]
  },
  {
   "cell_type": "code",
   "execution_count": 12,
   "metadata": {
    "collapsed": false
   },
   "outputs": [],
   "source": [
    "# use neigh to find local average tilt vector, outliers are not in a leaflet\n",
    "# if pointing neg in z, flip in x,y,z for making average in outer leaflet\n",
    "localvector=list([] for _ in xrange(traj.n_frames))\n",
    "for nn in range(traj.n_frames):\n",
    "    localvector[nn]=list([] for _ in xrange(len(allhead)))\n",
    "    for i in range(len(allhead)):\n",
    "        localvectorsx=[]\n",
    "        localvectorsy=[]\n",
    "        localvectorsz=[]\n",
    "        sgn=np.sign(tiltvectors[nn][i][2])\n",
    "        localvectorsx.append(sgn*tiltvectors[nn][i][0]) #include self\n",
    "        localvectorsy.append(sgn*tiltvectors[nn][i][1]) #include self\n",
    "        localvectorsz.append(sgn*tiltvectors[nn][i][2]) #include self\n",
    "        for j in range(len(neigh[nn][i])):\n",
    "            sgn=np.sign(tiltvectors[nn][neigh[nn][i][j]][2])\n",
    "            localvectorsx.append(sgn*tiltvectors[nn][neigh[nn][i][j]][0])\n",
    "            localvectorsy.append(sgn*tiltvectors[nn][neigh[nn][i][j]][1])\n",
    "            localvectorsz.append(sgn*tiltvectors[nn][neigh[nn][i][j]][2])\n",
    "        localvector[nn][i]=[np.mean(localvectorsx),np.mean(localvectorsy),np.mean(localvectorsz)]\n",
    "       "
   ]
  },
  {
   "cell_type": "code",
   "execution_count": 13,
   "metadata": {
    "collapsed": false
   },
   "outputs": [],
   "source": [
    "# find angle between orientation vector and local average orientation vector for each lipid\n",
    "# in range [0,180]\n",
    "diffangle=list([] for _ in xrange(traj.n_frames))\n",
    "for nn in range(traj.n_frames):\n",
    "    diffangle[nn]=list([] for _ in xrange(len(allhead)))\n",
    "    for i in range(len(allhead)):\n",
    "        normlv=np.linalg.norm(localvector[nn][i])\n",
    "        normtv=np.linalg.norm(tiltvectors[nn][i])\n",
    "        cos=np.dot(localvector[nn][i],tiltvectors[nn][i])/(normlv*normtv)\n",
    "        if (cos==0):\n",
    "            diffangle[nn][i]=90\n",
    "        elif (cos==1 and np.sign(localvector[nn][i][2])==np.sign(tiltvectors[nn][i][2])):\n",
    "            diffangle[nn][i]=0\n",
    "        elif (cos==1 and np.sign(localvector[nn][i][2])==np.sign(tiltvectors[nn][i][2])):\n",
    "            diffangle[nn][i]=180\n",
    "        else:\n",
    "            diffangle[nn][i]=np.arccos(cos)*180./np.pi\n"
   ]
  },
  {
   "cell_type": "code",
   "execution_count": 14,
   "metadata": {
    "collapsed": false
   },
   "outputs": [],
   "source": [
    "#have array with values placing each head in one leaflet: 0=lower, 1=upper, 2=between\n",
    "head_leaflet=list([] for _ in xrange(traj.n_frames))\n",
    "for nn in range(traj.n_frames):\n",
    "    head_leaflet[nn]=list([] for _ in xrange(len(allhead)))\n",
    "    for i in range(len(allhead)):\n",
    "        if (diffangle[nn][i]>120):\n",
    "            head_leaflet[nn][i]=0\n",
    "        elif (diffangle[nn][i]<60):\n",
    "            head_leaflet[nn][i]=1\n",
    "        else:\n",
    "            head_leaflet[nn][i]=2"
   ]
  },
  {
   "cell_type": "code",
   "execution_count": 15,
   "metadata": {
    "collapsed": false
   },
   "outputs": [],
   "source": [
    "# want to identify all midplane chol and remove all \"midplane\" phospholipids\n",
    "# tilt angle insufficient\n",
    "# chol: find distance from ROH to nearest PO4; if beyond threshold, then in midplane; \n",
    "# else, copy leaflet ID (do for all phospholipids); only if copying non-midplane\n",
    "\n",
    "for nn in range(traj.n_frames):\n",
    "    fixedchol=0\n",
    "    fixedphos=0\n",
    "    midplanechol=0\n",
    "    for i in range(len(allhead)):\n",
    "        mindist=100.0\n",
    "        if (head_leaflet[nn][i]==2 and (not resnames[allhead[i]]=='CHOL')): #phospholipids, must assign\n",
    "            for j in range(len(neigh[nn][i])):\n",
    "                if (not resnames[allhead[neigh[nn][i][j]]]=='CHOL'):\n",
    "                    dist=np.linalg.norm(traj.xyz[nn][allhead[i]]-traj.xyz[nn][allhead[neigh[nn][i][j]]])\n",
    "                    if (dist < mindist and (not head_leaflet[nn][neigh[nn][i][j]]==2)):\n",
    "                        mindist=dist\n",
    "                        correct_leaflet=head_leaflet[nn][neigh[nn][i][j]]\n",
    "            head_leaflet[nn][i]=correct_leaflet\n",
    "            fixedphos=fixedphos+1\n",
    "    #must fix all phospholipids before all chols, since some may use fixed phospholipid leaflet id\n",
    "    # so, must go through allhead twice\n",
    "    for i in range(len(allhead)):\n",
    "        mindist=100.0\n",
    "        if (resnames[allhead[i]]=='CHOL'): #all chol, ignoring angle\n",
    "            for j in range(len(neigh[nn][i])):\n",
    "                if (not resnames[allhead[neigh[nn][i][j]]]=='CHOL'):\n",
    "                    dist=np.linalg.norm(traj.xyz[nn][allhead[i]]-traj.xyz[nn][allhead[neigh[nn][i][j]]])\n",
    "                    if (dist < mindist and (not head_leaflet[nn][neigh[nn][i][j]]==2)):\n",
    "                        mindist=dist\n",
    "                        correct_leaflet=head_leaflet[nn][neigh[nn][i][j]]\n",
    "            if (mindist<1.4): #close to a headgroup, so in a leaflet\n",
    "                head_leaflet[nn][i]=correct_leaflet\n",
    "                fixedchol=fixedchol+1\n",
    "            else:\n",
    "                head_leaflet[nn][i]=2\n",
    "                midplanechol=midplanechol+1"
   ]
  },
  {
   "cell_type": "code",
   "execution_count": 16,
   "metadata": {
    "collapsed": false
   },
   "outputs": [],
   "source": [
    "# only need upper leaflet heads for this situation\n",
    "upperheads=list([] for _ in xrange(traj.n_frames))\n",
    "lowerheads=list([] for _ in xrange(traj.n_frames))\n",
    "lowerheads_index=list([] for _ in xrange(traj.n_frames))\n",
    "\n",
    "for nn in range(traj.n_frames):\n",
    "#    upperheads[nn]=[]\n",
    "    for i in range(len(allhead)):\n",
    "        if head_leaflet[nn][i]==0:\n",
    "            upperheads[nn].append(allhead[i])\n",
    "        if head_leaflet[nn][i]==0:\n",
    "            lowerheads[nn].append(allhead[i])\n",
    "            lowerheads_index[nn].append(i)"
   ]
  },
  {
   "cell_type": "code",
   "execution_count": 17,
   "metadata": {
    "collapsed": false
   },
   "outputs": [],
   "source": [
    "#count DPPC as fraction of upper total, to find global concentration of DPPC\n",
    "upperdppc=list([] for _ in xrange(traj.n_frames))\n",
    "#uppertotal=list([] for _ in xrange(traj.n_frames))\n",
    "globalconc=list([] for _ in xrange(traj.n_frames))\n",
    "\n",
    "for nn in range(traj.n_frames):\n",
    "    upperdppc[nn]=0\n",
    "    for j in range(len(upperheads[nn])):\n",
    "        if(resnames[upperheads[nn][j]]=='DXPC' or resnames[upperheads[nn][j]]=='DBPC' or resnames[upperheads[nn][j]]=='DPPC' or resnames[upperheads[nn][j]]=='CHOL'):\n",
    "            upperdppc[nn]=upperdppc[nn]+1\n",
    "    globalconc[nn]=float(upperdppc[nn])/len(upperheads[nn])"
   ]
  },
  {
   "cell_type": "code",
   "execution_count": 18,
   "metadata": {
    "collapsed": false
   },
   "outputs": [],
   "source": [
    "def phaseDefine(frames,head_array,size):\n",
    "    size=size\n",
    "    frames=frames\n",
    "    \n",
    "    heads = list([] for _ in xrange(frames))\n",
    "    headxy=list([] for _ in xrange(frames)) #[frame][head]\n",
    "    intmember=list([] for _ in xrange(frames))\n",
    "    intfrac=list([] for _ in xrange(frames))\n",
    "    regintfrac=list([] for _ in xrange(frames))\n",
    "    upperphase=list([] for _ in xrange(frames))\n",
    "    for nn in range(frames):\n",
    "        for n in range(len(head_array[nn])):\n",
    "            heads[nn].append(head_array[nn][n])\n",
    "            \n",
    "    for nn in range(frames):\n",
    "    #    headxy[nn]=list([] for _ in xrange(len(upperheads[nn])))\n",
    "        for i in range(len(heads[nn])):\n",
    "            headsi=heads[nn][i]\n",
    "            headxy[nn].append(traj.xyz[nn][headsi][0:2:1])\n",
    "\n",
    "\n",
    "        vor=scipy.spatial.Voronoi(np.array(headxy[nn]))\n",
    "    #Voronoi neighbors vneigh\n",
    "\n",
    "    #generate list of neighbors, edgeneigh\n",
    "        edgeneigh=list([] for _ in xrange(len(heads[nn])))\n",
    "        for k in range(len(vor.ridge_points)):\n",
    "            pair=vor.ridge_points[k]\n",
    "            edgeneigh[pair[0]].append(pair[1])\n",
    "            edgeneigh[pair[1]].append(pair[0])\n",
    "\n",
    "\n",
    "\n",
    "        vneigh=list([] for _ in xrange(len(heads[nn])))  #lipid type\n",
    "        vneighres=list([] for _ in xrange(len(heads[nn])))\n",
    "        for i in range(len(heads[nn])):\n",
    "            vneighheads=edgeneigh[i] #upperhead index, not atom\n",
    "            if not vneighheads:\n",
    "                vneigh[i]=[]\n",
    "                vneighres[i]=[]\n",
    "            else:\n",
    "                for j in range(len(vneighheads)):\n",
    "                    vneigh[i].append(resnames[heads[nn][vneighheads[j]]])\n",
    "                    vneighres[i].append(vneighheads[j])\n",
    "\n",
    "\n",
    "    #phase based on edges\n",
    "        vphase=list([] for _ in xrange(len(heads[nn])))\n",
    "        for i in range(len(heads[nn])):\n",
    "            vneightot=1+len(vneigh[i]) #include self\n",
    "            num_sat=0\n",
    "            if (resnames[heads[nn][j]]=='DXPC' or resnames[heads[nn][j]]=='DBPC' or resnames[heads[nn][j]]=='DPPC' or resnames[heads[nn][j]]=='CHOL'):\n",
    "                num_sat=num_sat+1\n",
    "            for j in range(len(vneigh[i])):\n",
    "                if (vneigh[i][j]=='DXPC' or vneigh[i][j]=='DBPC' or vneigh[i][j]=='DPPC' or vneigh[i][j]=='CHOL'):\n",
    "                    num_sat=num_sat+1\n",
    "            vlocal_conc=float(num_sat)/vneightot #integer would always be zero\n",
    "            if (vlocal_conc > globalconc[nn]):\n",
    "                vphase[i] = 1 # Lo=1\n",
    "            else:\n",
    "                vphase[i] = 0 # Ld=0         \n",
    "    #################################################################################\n",
    "    #ONLY GOING TO USE VPHASE TO CREAT U_PHASE\n",
    "        domain=list([] for _ in xrange(len(heads[nn])))\n",
    "        for i in range(len(heads[nn])): #N: Cycling through all molecule heads\n",
    "            domain[i]=0 # 0 = unassigned; N: Assigning each domain a value of 0\n",
    "\n",
    "        recurlist=[] # list of heads that must run through domain algorithm because in chain of neighbors\n",
    "\n",
    "        domain[0]=1 # first lipid sets first domain\n",
    "        for i in range(len(vneighres[0])): # vneighres is allheadz index, not atom\n",
    "            ni=vneighres[0][i] #N: Looking at specific patch\n",
    "            if vphase[ni]==vphase[0]: #only neighbors in same phase; N: Check if they have the same phase\n",
    "                domain[ni]=1\n",
    "                recurlist.append(ni) #N: Add it the heads that need to be checked against their neighbors\n",
    "        num_domains=1\n",
    "\n",
    "        while len(recurlist): # no new domain should be introduced in this section\n",
    "            headi=recurlist[0] #N: Looking at the first entry in recurlist\n",
    "            neighi=vneighres[headi] #N: Finding its neighbors\n",
    "            recurlist=recurlist[1:] # remove 1st element, now being handled\n",
    "            for j in range(len(neighi)):#N: For all of its neighbors\n",
    "                ni=neighi[j] \n",
    "                if (vphase[ni]==vphase[headi] and domain[ni]==0): #avoid infinitely putting back into recurlist; N: is the phase same as domian\n",
    "                    domain[ni]=domain[headi] #N: Domain is the same as the head\n",
    "                    recurlist.append(ni) #N: Put it back in the list to be checked again\n",
    "\n",
    "        #now iterate over other lipids, excluding those already marked\n",
    "        for i in range(len(heads[nn])-1): # 0 already done\n",
    "            if domain[i+1]==0: #not yet marked\n",
    "                neighi=vneighres[i+1]\n",
    "                num_domains=num_domains+1\n",
    "                domain[i+1]=num_domains\n",
    "                for j in range(len(neighi)):\n",
    "                    ni=neighi[j]\n",
    "                    if vphase[ni]==vphase[i+1]:\n",
    "                        domain[ni]=domain[i+1] \n",
    "                        recurlist.append(ni)\n",
    "                while len(recurlist): #until exhausted, then move onto next new domain\n",
    "                    headi=recurlist[0]\n",
    "                    neighi=vneighres[headi]\n",
    "                    recurlist=recurlist[1:]\n",
    "                    for j in range(len(neighi)):\n",
    "                        ni=neighi[j]\n",
    "                        if (vphase[ni]==vphase[headi] and domain[ni]==0):\n",
    "                            domain[ni]=domain[headi]\n",
    "                            recurlist.append(ni)\n",
    "\n",
    "        # see how many lipids in each domain\n",
    "        num_domains=max(domain)\n",
    "        domainsize=list([] for _ in xrange(num_domains))\n",
    "        for i in range(len(domainsize)):\n",
    "            domainsize[i]=0\n",
    "        for i in range(len(domain)):\n",
    "            di=domain[i]-1 #return to 0-index\n",
    "            domainsize[di]=domainsize[di]+1\n",
    "\n",
    "        #N: Method to get rid of domains that are less than 10 lipids long. 1) Find domains which are less than 10 lipids \n",
    "        #N: 2) Take every lipid with a small domain and add it to a list 3) Take that list and change the phase, and make\n",
    "        #N: an  updated phase list\n",
    "\n",
    "        #N: Going to make a list of the domains which are too small\n",
    "        small_domain=[]\n",
    "        lipid_counter=0 #N: Total number of lipids \n",
    "        for i in range(len(domainsize)): \n",
    "            if domainsize[i]<size: \n",
    "                small_domain.append(i+1)\n",
    "                lipid_counter=lipid_counter+domainsize[i]\n",
    "\n",
    "\n",
    "        #N: Go through domain(holds which domain every lipid belongs to) and see if its domain is in small_domian\n",
    "        #N: If it is, its phase needs to be changed \n",
    "        phase_req_change=[]\n",
    "        for i in range(len(domain)):\n",
    "            if domain[i] in small_domain:\n",
    "                phase_req_change.append(i)\n",
    "\n",
    "        #N: Go through phase_req_change. Each entry is the lipid whose phase needs to be switched. So take that entry\n",
    "        #N: and plug it into u_phase. Then switch the value of u_phase.\n",
    "        uphase=[]\n",
    "        for i in range(len(vphase)):\n",
    "            if i in phase_req_change:\n",
    "                #print(n)\n",
    "                if vphase[i]==0:\n",
    "                    uphase.append(1)\n",
    "                if vphase[i]==1:\n",
    "                    uphase.append(0)\n",
    "            else: \n",
    "                uphase.append(vphase[i])\n",
    "        upperphase[nn]=(uphase)\n",
    "###################################################################################################                \n",
    "    # color Voronoi polygons\n",
    "    #N: Make an updated picture of new phases\n",
    "    fig,ax=plt.subplots(1)\n",
    "    patches=[]\n",
    "    cmap=plt.get_cmap('autumn')\n",
    "    #flatphase=[val for sublist in cphase for val in sublist]\n",
    "    #colors=cmap([x*10 for x in flatphase])\n",
    "    colors=cmap([(x*256) for x in uphase])\n",
    "    #for region in range(len(vor.regions)):\n",
    "    #    if not -1 in vor.regions[region]:\n",
    "    #        pg=Polygon(vor.vertices,closed=True)\n",
    "    #        patches.append(pg)\n",
    "\n",
    "\n",
    "\n",
    "\n",
    "    for i in range(len(vor.point_region)):\n",
    "        verts=vor.regions[vor.point_region[i]] #indices of vertices forming that region\n",
    "        if (verts==[]):\n",
    "            pg=Polygon(np.array([[-1,-1],[-1.1,-1.1]]),closed=True)\n",
    "            patches.append(pg)\n",
    "        elif (not -1 in verts):\n",
    "            vertcoord=list([] for _ in xrange(len(verts))) #coordinates of vertices\n",
    "            for j in range(len(verts)):\n",
    "                k=verts[j]\n",
    "                vertcoord[j]=vor.vertices[k]\n",
    "            pg=Polygon(vertcoord,closed=True)\n",
    "            patches.append(pg)\n",
    "        else:\n",
    "            pg=Polygon(np.array([[-1,-1],[-1.1,-1.1]]),closed=True)\n",
    "            patches.append(pg)\n",
    "\n",
    "\n",
    "\n",
    "\n",
    "    collection=PatchCollection(patches)\n",
    "    ax.add_collection(collection)\n",
    "    collection.set_color(colors)\n",
    "\n",
    "    #plt.fill(*zip(*pg))\n",
    "    ax.set_aspect('equal')\n",
    "    ax.set_xlim([0,36.5])\n",
    "    ax.set_ylim([0,36.5])\n",
    "\n",
    "    plt.axis('off')\n",
    "\n",
    "    plt.savefig(name+'.pdf',format='pdf')\n",
    "    plt.show()\n",
    "    \n",
    "    return (upperphase)"
   ]
  },
  {
   "cell_type": "code",
   "execution_count": 19,
   "metadata": {
    "collapsed": false
   },
   "outputs": [
    {
     "data": {
      "image/png": "[encoded data removed]",
      "text/plain": [
       "<matplotlib.figure.Figure at 0x10e3a0890>"
      ]
     },
     "metadata": {},
     "output_type": "display_data"
    }
   ],
   "source": [
    "upperphase=[]\n",
    "upperphase=phaseDefine(frames,upperheads,10)\n"
   ]
  },
  {
   "cell_type": "code",
   "execution_count": 20,
   "metadata": {
    "collapsed": false
   },
   "outputs": [
    {
     "data": {
      "image/png": "[encoded data removed]",
      "text/plain": [
       "<matplotlib.figure.Figure at 0x11a12f510>"
      ]
     },
     "metadata": {},
     "output_type": "display_data"
    }
   ],
   "source": [
    "lowerphase=[]\n",
    "lowerphase=phaseDefine(frames,lowerheads,10)"
   ]
  },
  {
   "cell_type": "code",
   "execution_count": 21,
   "metadata": {
    "collapsed": false
   },
   "outputs": [],
   "source": [
    "#oppneigh construction\n",
    "def oppneighConstruction(frames,neighbor_array,head_array,):\n",
    "    frames=frames\n",
    "    neigh=neighbor_array\n",
    "    heads=head_array\n",
    "    \n",
    "    intmember=list([] for _ in xrange(frames))\n",
    "    oppneigh=list([] for _ in xrange(frames))\n",
    "\n",
    "    for nn in range(traj.n_frames):\n",
    "        oppneigh[nn]=list([] for _ in xrange(len(heads[nn]))) #for upper, lower neighbors (xy dist)\n",
    "        for i in range(len(heads[nn])):\n",
    "            for j in range(len(neigh[nn][i])):\n",
    "                if (head_leaflet[nn][neigh[nn][i][j]]==0): # if lower\n",
    "                    oppneigh[nn][i].append(neigh[nn][i][j])\n",
    "                    \n",
    "    for nn in range(traj.n_frames):\n",
    "        for i in range(len(oppneigh[nn])):\n",
    "            for j in range(len(oppneigh[nn][i])):\n",
    "                for r in range(len(lowerheads_index[nn])):\n",
    "                    if lowerheads_index[nn][r]==oppneigh[nn][i][j]:\n",
    "                        oppneigh[nn][i][j]=r\n",
    "                    #updated_oppneigh[nn][i].append(r)\n",
    "                    #print(oppneighupper[nn][i][j],r)\n",
    "    return oppneigh"
   ]
  },
  {
   "cell_type": "code",
   "execution_count": 22,
   "metadata": {
    "collapsed": false
   },
   "outputs": [],
   "source": [
    "oppneighupper=[]\n",
    "oppneighupper=oppneighConstruction(frames,neigh,upperheads)"
   ]
  },
  {
   "cell_type": "code",
   "execution_count": 23,
   "metadata": {
    "collapsed": false
   },
   "outputs": [],
   "source": [
    "#Registration \n",
    "reg=list([] for _ in xrange(frames))\n",
    "regint=0\n",
    "\n",
    "for nn in range(frames):\n",
    "    reg[nn]=list([] for _ in xrange(len(upperheads[nn])))\n",
    "    for i in range(len(oppneighupper[nn])):\n",
    "        upperres=upperphase[nn][i]\n",
    "        for j in range(len(oppneighupper[nn][i])):\n",
    "            head=oppneighupper[nn][i][j]\n",
    "            if upperres==lowerphase[nn][head]:\n",
    "                reg[nn][i]=(1)\n",
    "            else: reg[nn][i]=(0)"
   ]
  },
  {
   "cell_type": "code",
   "execution_count": 24,
   "metadata": {
    "collapsed": false
   },
   "outputs": [
    {
     "name": "stdout",
     "output_type": "stream",
     "text": [
      "0.667931688805\n",
      "0.675829383886\n",
      "0.680952380952\n",
      "0.690307328605\n",
      "0.682788051209\n",
      "0.693472090823\n",
      "0.681861348528\n",
      "0.674750356633\n",
      "0.671897289586\n",
      "0.702228544334\n",
      "0.679866412214\n",
      "0.68536121673\n",
      "0.692270763322\n",
      "0.699904580153\n",
      "0.684964200477\n",
      "0.696462715105\n",
      "0.697186456843\n",
      "0.702056432329\n",
      "0.708036138849\n"
     ]
    }
   ],
   "source": [
    "for nn in range(frames):\n",
    "    s=0\n",
    "    l=0\n",
    "    for i in range(len(reg[nn])):\n",
    "        if reg[nn][i]==1:\n",
    "            s=s+1\n",
    "            l=l+1\n",
    "        else: l=l+1\n",
    "    print(float(float(s)/float(l)))"
   ]
  },
  {
   "cell_type": "code",
   "execution_count": null,
   "metadata": {
    "collapsed": true
   },
   "outputs": [],
   "source": []
  }
 ],
 "metadata": {
  "kernelspec": {
   "display_name": "Python 2",
   "language": "python",
   "name": "python2"
  },
  "language_info": {
   "codemirror_mode": {
    "name": "ipython",
    "version": 2
   },
   "file_extension": ".py",
   "mimetype": "text/x-python",
   "name": "python",
   "nbconvert_exporter": "python",
   "pygments_lexer": "ipython2",
   "version": "2.7.13"
  }
 },
 "nbformat": 4,
 "nbformat_minor": 0
}
