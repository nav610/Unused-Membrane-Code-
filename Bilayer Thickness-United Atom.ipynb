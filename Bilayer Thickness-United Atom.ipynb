{
 "cells": [
  {
   "cell_type": "markdown",
   "metadata": {},
   "source": [
    "# Calculation of United Atom Bilayer Thickness "
   ]
  },
  {
   "cell_type": "raw",
   "metadata": {},
   "source": [
    "Naveen Mohideen, Cornell University, Feigenson Lab  10.26.18"
   ]
  },
  {
   "cell_type": "raw",
   "metadata": {},
   "source": [
    "Read Me: \n",
    "Purpose of Code is to Calculated Bilayer Thickness. \n",
    "Utilizes same Method found in \"Removal of Middle Water...\"\n",
    "\n",
    "   "
   ]
  },
  {
   "cell_type": "code",
   "execution_count": 4,
   "metadata": {},
   "outputs": [],
   "source": [
    "from __future__ import print_function\n",
    "%matplotlib inline\n",
    "import mdtraj as md\n",
    "import numpy as np\n",
    "import matplotlib.pyplot as plt\n",
    "from matplotlib.collections import PatchCollection\n",
    "from matplotlib.patches import Polygon\n",
    "#import scipy.cluster.hierarchy\n",
    "import scipy.spatial"
   ]
  },
  {
   "cell_type": "code",
   "execution_count": 5,
   "metadata": {},
   "outputs": [],
   "source": [
    "traj=md.load('ua_symRho=ptseven-gmxsolvated.xtc',top='ua_symRho=ptseven-gmxsolvated.gro')\n",
    "name='ua_symRho=ptseven-gmxsolvated'"
   ]
  },
  {
   "cell_type": "code",
   "execution_count": 6,
   "metadata": {},
   "outputs": [],
   "source": [
    "topology=traj.topology\n",
    "allhead=topology.select('name P8 or name P11')\n",
    "water=topology.select('name O')"
   ]
  },
  {
   "cell_type": "code",
   "execution_count": 7,
   "metadata": {},
   "outputs": [],
   "source": [
    "resnames=[atom.residue.name for atom in topology.atoms]"
   ]
  },
  {
   "cell_type": "markdown",
   "metadata": {},
   "source": [
    "# 1: Sort Lipids into Upper/Lower Leaflet\n"
   ]
  },
  {
   "cell_type": "code",
   "execution_count": 9,
   "metadata": {},
   "outputs": [],
   "source": [
    "#x,y coordinates of all for finding neighbors to determine local midplane z-value\n",
    "# here, best to use xy radius of neighbors, since Voronoi across 2 leaflets could have complications\n",
    "\n",
    "allheadxy=list([] for _ in xrange(traj.n_frames))\n",
    "allheadz=list([] for _ in xrange(traj.n_frames))\n",
    "for nn in range(traj.n_frames):\n",
    "    for i in range(len(allhead)):\n",
    "        allheadi=allhead[i]\n",
    "        allheadxy[nn].append(traj.xyz[nn][allheadi][0:2:1])\n",
    "        allheadz[nn].append(traj.xyz[nn][allheadi][2])\n"
   ]
  },
  {
   "cell_type": "code",
   "execution_count": 10,
   "metadata": {},
   "outputs": [],
   "source": [
    "# mdtraj can't handle neighbors for gro (rather than xtc) inputs, so do it myself\n",
    "#cutoffsq = 2.4**2; #square of maximum xy distance for neighbors\n",
    "cutoffsq=1.0**2\n",
    "neigh=list([] for _ in xrange(traj.n_frames))\n",
    "for nn in range(traj.n_frames):\n",
    "    neigh[nn]=list([] for _ in xrange(len(allhead)))\n",
    "    for i in range(len(allheadxy[nn])):\n",
    "        xyi=allheadxy[nn][i]\n",
    "        for j in range(len(allhead)-i-1): #not self, but will add for midplane finding\n",
    "            xyj=allheadxy[nn][j+i+1]\n",
    "            distsq=(xyi[0]-xyj[0])**2 + (xyi[1]-xyj[1])**2\n",
    "            if (distsq < cutoffsq):\n",
    "                neigh[nn][i].append(j+i+1)\n",
    "                neigh[nn][j+i+1].append(i)\n",
    "  "
   ]
  },
  {
   "cell_type": "code",
   "execution_count": 11,
   "metadata": {},
   "outputs": [],
   "source": [
    "#new leaflet id method based on tilt angles; PO4-C4A or ROH-C1 (both +6 beads)\n",
    "num_head=len(allhead)\n",
    "tiltvectors=list([] for _ in xrange(traj.n_frames))\n",
    "\n",
    "for nn in range(traj.n_frames):\n",
    "    tiltvectors[nn]=list([] for _ in xrange(num_head)) #store vector roh-c1 or po4-c4a\n",
    "    \n",
    "    for i in range(num_head):\n",
    "        tiltvectors[nn][i]=traj.xyz[nn][allhead[i]]-traj.xyz[nn][allhead[i]+6]\n"
   ]
  },
  {
   "cell_type": "code",
   "execution_count": 12,
   "metadata": {},
   "outputs": [],
   "source": [
    "# must fix periodic boundary condition errors in tiltvectors, then calculate tiltangle\n",
    "norms=list([] for _ in xrange(traj.n_frames))\n",
    "for nn in range(traj.n_frames):\n",
    "    norms[nn]=list([] for _ in xrange(len(allhead)))\n",
    "    halfx=0.5*traj.unitcell_lengths[nn][0]\n",
    "    halfy=0.5*traj.unitcell_lengths[nn][1]\n",
    "    halfz=0.5*traj.unitcell_lengths[nn][2]\n",
    "    for i in range(len(allhead)):\n",
    "        norms[nn][i]=np.linalg.norm(tiltvectors[nn][i])\n",
    "        if (norms[nn][i] > halfz):\n",
    "            if (np.abs(tiltvectors[nn][i][0]) > halfx):\n",
    "                if (tiltvectors[nn][i][0]>0): \n",
    "                    tiltvectors[nn][i][0]=tiltvectors[nn][i][0]-2*halfx\n",
    "                else:\n",
    "                    tiltvectors[nn][i][0]=tiltvectors[nn][i][0]+2*halfx\n",
    "            if (np.abs(tiltvectors[nn][i][1]) > halfy):\n",
    "                if (tiltvectors[nn][i][1]>0): \n",
    "                    tiltvectors[nn][i][1]=tiltvectors[nn][i][1]-2*halfy\n",
    "                else:\n",
    "                    tiltvectors[nn][i][1]=tiltvectors[nn][i][1]+2*halfy\n",
    "            if (np.abs(tiltvectors[nn][i][2]) > halfz):\n",
    "                if (tiltvectors[nn][i][2]>0): \n",
    "                    tiltvectors[nn][i][2]=tiltvectors[nn][i][2]-2*halfz\n",
    "                else:\n",
    "                    tiltvectors[nn][i][2]=tiltvectors[nn][i][2]+2*halfz\n",
    "\n",
    "    for i in range(len(allhead)):\n",
    "        norms[nn][i]=np.linalg.norm(tiltvectors[nn][i])\n"
   ]
  },
  {
   "cell_type": "code",
   "execution_count": 13,
   "metadata": {},
   "outputs": [],
   "source": [
    "# use neigh to find local average tilt vector, outliers are not in a leaflet\n",
    "# if pointing neg in z, flip in x,y,z for making average in outer leaflet\n",
    "localvector=list([] for _ in xrange(traj.n_frames))\n",
    "for nn in range(traj.n_frames):\n",
    "    localvector[nn]=list([] for _ in xrange(len(allhead)))\n",
    "    for i in range(len(allhead)):\n",
    "        localvectorsx=[]\n",
    "        localvectorsy=[]\n",
    "        localvectorsz=[]\n",
    "        sgn=np.sign(tiltvectors[nn][i][2])\n",
    "        localvectorsx.append(sgn*tiltvectors[nn][i][0]) #include self\n",
    "        localvectorsy.append(sgn*tiltvectors[nn][i][1]) #include self\n",
    "        localvectorsz.append(sgn*tiltvectors[nn][i][2]) #include self\n",
    "        for j in range(len(neigh[nn][i])):\n",
    "            sgn=np.sign(tiltvectors[nn][neigh[nn][i][j]][2])\n",
    "            localvectorsx.append(sgn*tiltvectors[nn][neigh[nn][i][j]][0])\n",
    "            localvectorsy.append(sgn*tiltvectors[nn][neigh[nn][i][j]][1])\n",
    "            localvectorsz.append(sgn*tiltvectors[nn][neigh[nn][i][j]][2])\n",
    "        localvector[nn][i]=[np.mean(localvectorsx),np.mean(localvectorsy),np.mean(localvectorsz)]\n",
    "       "
   ]
  },
  {
   "cell_type": "code",
   "execution_count": 14,
   "metadata": {},
   "outputs": [],
   "source": [
    "# find angle between orientation vector and local average orientation vector for each lipid\n",
    "# in range [0,180]\n",
    "diffangle=list([] for _ in xrange(traj.n_frames))\n",
    "for nn in range(traj.n_frames):\n",
    "    diffangle[nn]=list([] for _ in xrange(len(allhead)))\n",
    "    for i in range(len(allhead)):\n",
    "        normlv=np.linalg.norm(localvector[nn][i])\n",
    "        normtv=np.linalg.norm(tiltvectors[nn][i])\n",
    "        cos=np.dot(localvector[nn][i],tiltvectors[nn][i])/(normlv*normtv)\n",
    "        if (cos==0):\n",
    "            diffangle[nn][i]=90\n",
    "        elif (cos==1 and np.sign(localvector[nn][i][2])==np.sign(tiltvectors[nn][i][2])):\n",
    "            diffangle[nn][i]=0\n",
    "        elif (cos==1 and np.sign(localvector[nn][i][2])==np.sign(tiltvectors[nn][i][2])):\n",
    "            diffangle[nn][i]=180\n",
    "        else:\n",
    "            diffangle[nn][i]=np.arccos(cos)*180./np.pi\n"
   ]
  },
  {
   "cell_type": "code",
   "execution_count": 15,
   "metadata": {},
   "outputs": [],
   "source": [
    "#have array with values placing each head in one leaflet: 0=lower, 1=upper, 2=between\n",
    "head_leaflet=list([] for _ in xrange(traj.n_frames))\n",
    "for nn in range(traj.n_frames):\n",
    "    head_leaflet[nn]=list([] for _ in xrange(len(allhead)))\n",
    "    for i in range(len(allhead)):\n",
    "        if (diffangle[nn][i]>120):\n",
    "            head_leaflet[nn][i]=0\n",
    "        elif (diffangle[nn][i]<60):\n",
    "            head_leaflet[nn][i]=1\n",
    "        else:\n",
    "            head_leaflet[nn][i]=2"
   ]
  },
  {
   "cell_type": "code",
   "execution_count": 16,
   "metadata": {},
   "outputs": [],
   "source": [
    "# want to identify all midplane chol and remove all \"midplane\" phospholipids\n",
    "# tilt angle insufficient\n",
    "# chol: find distance from ROH to nearest PO4; if beyond threshold, then in midplane; \n",
    "# else, copy leaflet ID (do for all phospholipids); only if copying non-midplane\n",
    "\n",
    "for nn in range(traj.n_frames):\n",
    "    fixedchol=0\n",
    "    fixedphos=0\n",
    "    midplanechol=0\n",
    "    for i in range(len(allhead)):\n",
    "        mindist=100.0\n",
    "        if (head_leaflet[nn][i]==2 and (not resnames[allhead[i]]=='CHOL')): #phospholipids, must assign\n",
    "            for j in range(len(neigh[nn][i])):\n",
    "                if (not resnames[allhead[neigh[nn][i][j]]]=='CHOL'):\n",
    "                    dist=np.linalg.norm(traj.xyz[nn][allhead[i]]-traj.xyz[nn][allhead[neigh[nn][i][j]]])\n",
    "                    if (dist < mindist and (not head_leaflet[nn][neigh[nn][i][j]]==2)):\n",
    "                        mindist=dist\n",
    "                        correct_leaflet=head_leaflet[nn][neigh[nn][i][j]]\n",
    "            head_leaflet[nn][i]=correct_leaflet\n",
    "            fixedphos=fixedphos+1\n",
    "    #must fix all phospholipids before all chols, since some may use fixed phospholipid leaflet id\n",
    "    # so, must go through allhead twice\n",
    "    for i in range(len(allhead)):\n",
    "        mindist=100.0\n",
    "        if (resnames[allhead[i]]=='CHOL'): #all chol, ignoring angle\n",
    "            for j in range(len(neigh[nn][i])):\n",
    "                if (not resnames[allhead[neigh[nn][i][j]]]=='CHOL'):\n",
    "                    dist=np.linalg.norm(traj.xyz[nn][allhead[i]]-traj.xyz[nn][allhead[neigh[nn][i][j]]])\n",
    "                    if (dist < mindist and (not head_leaflet[nn][neigh[nn][i][j]]==2)):\n",
    "                        mindist=dist\n",
    "                        correct_leaflet=head_leaflet[nn][neigh[nn][i][j]]\n",
    "            if (mindist<1.4): #close to a headgroup, so in a leaflet\n",
    "                head_leaflet[nn][i]=correct_leaflet\n",
    "                fixedchol=fixedchol+1\n",
    "            else:\n",
    "                head_leaflet[nn][i]=2\n",
    "                midplanechol=midplanechol+1"
   ]
  },
  {
   "cell_type": "code",
   "execution_count": 17,
   "metadata": {},
   "outputs": [],
   "source": [
    "# only need upper leaflet heads for this situation\n",
    "upperheads=list([] for _ in xrange(traj.n_frames))\n",
    "lowerheads=list([] for _ in xrange(traj.n_frames))\n",
    "middle=list([] for _ in xrange(traj.n_frames))\n",
    "waterhead=list([] for _ in xrange(traj.n_frames))\n",
    "for nn in range(traj.n_frames):\n",
    "#    upperheads[nn]=[]\n",
    "    for i in range(len(allhead)):\n",
    "        if head_leaflet[nn][i]==1:\n",
    "            upperheads[nn].append(allhead[i])\n",
    "        if head_leaflet[nn][i]==0:\n",
    "            lowerheads[nn].append(allhead[i])\n",
    "        if head_leaflet[nn][i]==2:\n",
    "            middle[nn].append(allhead[i])\n",
    "\n",
    "for nn in range(traj.n_frames): \n",
    "    for i in range(len(water)): \n",
    "        waterhead[nn].append(water[i])"
   ]
  },
  {
   "cell_type": "code",
   "execution_count": 18,
   "metadata": {},
   "outputs": [],
   "source": [
    "upperheadxy=list([] for _ in xrange(traj.n_frames)) #[frame][head]\n",
    "for nn in range(traj.n_frames):\n",
    "#    headxy[nn]=list([] for _ in xrange(len(upperheads[nn])))\n",
    "    for i in range(len(upperheads[nn])):\n",
    "        upperheadsi=upperheads[nn][i]\n",
    "        upperheadxy[nn].append(traj.xyz[nn][upperheadsi][0:3:1])\n",
    "\n",
    "lowerheadxy = list([] for _ in xrange(traj.n_frames))\n",
    "for nn in range(traj.n_frames): \n",
    "    for i in range(len(lowerheads[nn])): \n",
    "        lowerheadsi=lowerheads[nn][i]\n",
    "        lowerheadxy[nn].append(traj.xyz[nn][lowerheadsi][0:3:1])\n",
    "        "
   ]
  },
  {
   "cell_type": "markdown",
   "metadata": {},
   "source": [
    "# 2: Find Lipid Opposite Leaflet Neighbors"
   ]
  },
  {
   "cell_type": "code",
   "execution_count": 19,
   "metadata": {},
   "outputs": [],
   "source": [
    "#find closest neighbors between upperheads and lowerheads \n",
    "#lipid_opp_distance = list([] for _ in xrange(traj.n_frames))\n",
    "lipid_opp_neighbors = list([] for _ in xrange(traj.n_frames))\n",
    "\n",
    "for nn in range(traj.n_frames): \n",
    "    for i in range(len(upperheadxy[nn])): \n",
    "        pairs=[]\n",
    "        for j in range(len(lowerheadxy[nn])): \n",
    "            r=(upperheadxy[nn][i][0]-lowerheadxy[nn][j][0])**2 + (upperheadxy[nn][i][1]-lowerheadxy[nn][j][1])**2\n",
    "            if r<5:\n",
    "                pairs.append(lowerheads[nn][j])\n",
    "        lipid_opp_neighbors[nn].append([i,pairs])\n",
    "        "
   ]
  },
  {
   "cell_type": "code",
   "execution_count": 20,
   "metadata": {},
   "outputs": [],
   "source": [
    "#find closest neighbors between upperheads and lowerheads \n",
    "#lipid_opp_distance = list([] for _ in xrange(traj.n_frames))\n",
    "lipid_opp_neighbors_rev = list([] for _ in xrange(traj.n_frames))\n",
    "\n",
    "for nn in range(traj.n_frames): \n",
    "    for i in range(len(lowerheadxy[nn])): \n",
    "        pairs=[]\n",
    "        for j in range(len(upperheadxy[nn])): \n",
    "            r=(upperheadxy[nn][j][0]-lowerheadxy[nn][i][0])**2 + (upperheadxy[nn][j][1]-lowerheadxy[nn][i][1])**2\n",
    "            if r<5:\n",
    "                pairs.append(upperheads[nn][j])\n",
    "        lipid_opp_neighbors_rev[nn].append([i,pairs])\n",
    "        "
   ]
  },
  {
   "cell_type": "code",
   "execution_count": 21,
   "metadata": {},
   "outputs": [],
   "source": [
    "#sort through the list of close neighbors and find closest lipid\n",
    "lipid_pairs = list([] for _ in xrange(traj.n_frames))\n",
    "lipid_distance= list([] for _ in xrange(traj.n_frames))\n",
    "\n",
    "for nn in range(traj.n_frames): \n",
    "    for i in range(len(upperheads[nn])): \n",
    "        lipid_distance[nn].append(10000000)\n",
    "        lipid_pairs[nn].append([i,0])\n",
    "        \n",
    "        \n",
    "for nn in range(traj.n_frames): \n",
    "    for i in range(len(lipid_opp_neighbors[nn])):\n",
    "        for j in range(len(lipid_opp_neighbors[nn][i][1])):\n",
    "            upperindex=lipid_opp_neighbors[nn][i][0]\n",
    "            lowerheadvalue=lipid_opp_neighbors[nn][i][1][j]\n",
    "            lowerindex=lowerheads[nn].index(lowerheadvalue)\n",
    "            d = (upperheadxy[nn][upperindex][0] - lowerheadxy[nn][lowerindex][0])**2 + (upperheadxy[nn][upperindex][1] - lowerheadxy[nn][lowerindex][1])**2 + (upperheadxy[nn][upperindex][2] - lowerheadxy[nn][lowerindex][2])**2\n",
    "           \n",
    "            if d<lipid_distance[nn][i]: \n",
    "                #print('true')\n",
    "                lipid_distance[nn][i] = d \n",
    "                lipid_pairs[nn][i] = [upperindex,lowerindex]"
   ]
  },
  {
   "cell_type": "code",
   "execution_count": null,
   "metadata": {},
   "outputs": [],
   "source": []
  }
 ],
 "metadata": {
  "kernelspec": {
   "display_name": "Python 2",
   "language": "python",
   "name": "python2"
  },
  "language_info": {
   "codemirror_mode": {
    "name": "ipython",
    "version": 2
   },
   "file_extension": ".py",
   "mimetype": "text/x-python",
   "name": "python",
   "nbconvert_exporter": "python",
   "pygments_lexer": "ipython2",
   "version": "2.7.15"
  }
 },
 "nbformat": 4,
 "nbformat_minor": 2
}
